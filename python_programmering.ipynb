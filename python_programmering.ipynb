{
 "cells": [
  {
   "cell_type": "markdown",
   "id": "b6297aa3",
   "metadata": {},
   "source": [
    "# Python Programmering"
   ]
  },
  {
   "cell_type": "markdown",
   "id": "4d16415d",
   "metadata": {},
   "source": [
    "Dette dokumentet har to intensjoner: \n",
    "\n",
    "1. Gi deg god nok forståelse til å kunne løse Python problemer i 1T\n",
    "2. Gi deg en god grunnleggende forståelse av Python så du kan enklere håndtere det i senere mattekurs. Det er neppe siste gang du skal ha et mattekurs på vgs, så hvis du følger dette dokumentet fra start til slutt og forstår alt sammen, har du lagt deg et godt grunnlag for senere matematikkurs.\n",
    " \n",
    "Den delen av Python programmeringen vi trenger i matematikk kan deles inn i følgende kategorier:\n",
    "\n",
    "- Variabler og Datatyper\n",
    "- Algebraiske operasjoner\n",
    "- For- og While løkker\n",
    "- If-else blokker\n",
    "- Funksjoner\n",
    "\n",
    "Vi skal først dekke disse ideene separat så du får en god forståelse av hva de er og hvordan de funker.\n",
    "Når vi har sett på alle kategoriene, skal vi til slutt se på noen sammensatte eksempler der vi trenger funksjoner, ulike løkker og if-else blokker kombinert."
   ]
  },
  {
   "cell_type": "markdown",
   "id": "d22ab221",
   "metadata": {},
   "source": [
    "## Variabler og Datatyper"
   ]
  },
  {
   "cell_type": "markdown",
   "id": "192a7cbe",
   "metadata": {},
   "source": [
    "**Variabler** i Python er navngitt av oss og brukes av Python til å lagre og manipulere **data**.\n",
    "Hvilken **datatype** eller **type** variabelen har er avhengig av hva vi spesifiserer i koden."
   ]
  },
  {
   "cell_type": "markdown",
   "id": "e4898677",
   "metadata": {},
   "source": [
    "### Datatyper"
   ]
  },
  {
   "cell_type": "markdown",
   "id": "21402981",
   "metadata": {},
   "source": [
    "Det finnes mange forskjellige datatyper i Python. For oss er de viktigste:\n",
    "\n",
    "- `int` som er heltall.\n",
    "- `float` som er \"flyttall\" (tenk reelle tall).\n",
    "- `str` som er en \"tekststreng\". \n",
    "- `list` som er en liste med *elementer*. Elementene som inneholdes i listen kan være av forskjellige typer. En liste kan også være tom, dvs den inneholder ingen elementer.\n",
    "- `bool` som er en \"sannhetsverdi\" eller *boolske* verdier. Enten er den `True` eller `False`."
   ]
  },
  {
   "cell_type": "markdown",
   "id": "93cad0b8",
   "metadata": {},
   "source": [
    "### Variabler"
   ]
  },
  {
   "cell_type": "markdown",
   "id": "7c895442",
   "metadata": {},
   "source": [
    "For oss vil alle variabler ha en av datatypene vi har sett så langt. \n",
    "Måten man setter navn på variabler følger følgende regler: \n",
    "- For matematiske problemstillinger der notasjon følger matematikken, kan man bruke samme symboler som opptrer i matematikken, for eksempel `x` for verdier på x-aksen eller `y` for verdier på y-aksen.\n",
    "- Hvis variablen ikke har en opplagt matematisk tolkning, er det ønskelig med beskrivende variabelnavn. For eksempel, tenk deg at vi vil ha en variabel som lagrer overskuddet du har etter en måned har passert. Å kalle variablene for `overskudd` er da foretrukket. Ønsker man å bruke flere ord i variabelnavnet, separeres ordene med `_`. For eksempel kunne vi kalt variablen for `mitt_overskudd` i stedet.\n",
    "\n",
    "\n",
    "La oss se på noen eksempler på variabler og hvilken type de har:"
   ]
  },
  {
   "cell_type": "code",
   "execution_count": 41,
   "id": "2133a5ff",
   "metadata": {},
   "outputs": [],
   "source": [
    "# Man skriver kommentarer i Python på denne måten ved å skrive etter \"#\"-symbolet.\n",
    "a = 2 # int\n",
    "b = 2.0 # float\n",
    "min_melding = \"Eksempel på en hvordan en variabel som lagrer tekst\" # str\n",
    "min_liste = [a, b, min_melding] # list med elementer av typene [int, float, str].\n",
    "en_tom_liste = [] # list, men uten noen elementer\n",
    "min_boolske_variabel = True # `bool` variabel."
   ]
  },
  {
   "cell_type": "markdown",
   "id": "b5475258",
   "metadata": {},
   "source": [
    "Vi kan skrive ut hva \"verdien\" til en variabel er til skjermen ved å bruke en innebygd funksjon kalt `print`. Eksempelvis:"
   ]
  },
  {
   "cell_type": "code",
   "execution_count": 42,
   "id": "9bed3dfe",
   "metadata": {},
   "outputs": [
    {
     "name": "stdout",
     "output_type": "stream",
     "text": [
      "2\n",
      "2.0\n",
      "Eksempel på en hvordan en variabel som lagrer tekst\n",
      "[2, 2.0, 'Eksempel på en hvordan en variabel som lagrer tekst']\n",
      "[]\n",
      "True\n"
     ]
    }
   ],
   "source": [
    "print(a) # Skriver ut hvilken verdi `a` har.\n",
    "print(b) # Skriver ut hvilken verdi `b` har.\n",
    "print(min_melding) # Skriver ut hvilken \"verdi\" `min_melding` har.\n",
    "print(min_liste) # Skriver ut hvilken \"verdi\" `min_liste` har.\n",
    "print(en_tom_liste) # Skriver ut den tomme listen vår.\n",
    "print(min_boolske_variabel) # Skriver ut verdien til `min_boolske_variabel`"
   ]
  },
  {
   "cell_type": "code",
   "execution_count": 43,
   "id": "a213212e",
   "metadata": {},
   "outputs": [
    {
     "name": "stdout",
     "output_type": "stream",
     "text": [
      "<class 'int'>\n",
      "<class 'float'>\n",
      "<class 'str'>\n",
      "<class 'list'>\n"
     ]
    }
   ],
   "source": [
    "print(type(a)) #Skriver ut resultatet av type(a)\n",
    "print(type(b)) #Skriver ut resultatet av type(b)\n",
    "print(type(min_melding)) #skriver ut resultatet av type(min_melding)\n",
    "print(type(min_liste)) #Skriver ut resultatet av type(min_liste)"
   ]
  },
  {
   "cell_type": "markdown",
   "id": "1daf9355",
   "metadata": {},
   "source": [
    "Ikke bekymre deg over ordet \"class\" her. Datatypen er den som følger står rett etter."
   ]
  },
  {
   "cell_type": "markdown",
   "id": "dd8e2e76",
   "metadata": {},
   "source": [
    "## Algebraiske Operasjoner"
   ]
  },
  {
   "cell_type": "markdown",
   "id": "a9274a32",
   "metadata": {},
   "source": [
    "I all hovedsak, ønsker vi å bruke Python til å gjøre matematikk for oss. Dette betyr at vi må vite hvordan vi\n",
    "tar vanlige matematiske operasjoner uttrykkes i kodespråket vårt.\n",
    "De matematiske operasjonene representeres slik:\n",
    "- Addisjon eller pluss representeres med `+`. \n",
    "- Subtraksjon eller minus representeres med `-`.\n",
    "- Multiplikasjon aka ganging representeres med `*`.\n",
    "- Divisjon eller deling representeres med `/`. \n",
    "- Opphøye tall i en potens gjøres med `**`. \n",
    "\n",
    "Disse operasjonene kan gjøres med to variabler av typene `int` og `int`, `float` og `float`, eller `float` og `int`. \n",
    "\n",
    "Kanskje ingen overraskelser her. Men la oss se på et noen enkle eksempler som illustrerer bruken av dem:"
   ]
  },
  {
   "cell_type": "code",
   "execution_count": 44,
   "id": "f227aee3",
   "metadata": {},
   "outputs": [],
   "source": [
    "a = 1 \n",
    "b = 2\n",
    "\n",
    "# Du kan godt merke deg mellomrommet mellom alle symbolene.\n",
    "# De er ikke nødvendige for at Python skal skjønne hva du mener.\n",
    "# Det er foretrukket for leselighet å skrive kode med mellomrom mellom symbolene.\n",
    "# c=a+b # DO NOT DO THIS\n",
    "# c = a + b #DO THIS, VERY PRETTY. Men det påvirker ikke om du får riktig eller feil selvfølgelig\n",
    "c = a + b # Regner ut a pluss b og lagrer resultatet i variablen kalt c.\n",
    "d = a - b # Regner ut a minus b og lagrer resultatet i variablene kalt d.\n",
    "e = a * b # Regner ut a ganget med b og lagrer resultatet i variablen kalt e.\n",
    "f = a / b # Regner ut a delt med b og lagrer resultatet i variabelen kalt f.\n",
    "g = a ** 3 # Regner ut b opphøyd i 3, aka b^3."
   ]
  },
  {
   "cell_type": "markdown",
   "id": "d4bbd04e",
   "metadata": {},
   "source": [
    "La oss bare printe resultatene så vi ser at de gjør hva vi forventer:"
   ]
  },
  {
   "cell_type": "code",
   "execution_count": 45,
   "id": "935bf2f8",
   "metadata": {},
   "outputs": [
    {
     "name": "stdout",
     "output_type": "stream",
     "text": [
      "c = a + b = 3\n",
      "d = a - b = -1\n",
      "e = a * b = 2\n",
      "f = a / b = 0.5\n",
      "g = b ** 3 = 1\n"
     ]
    }
   ],
   "source": [
    "print(\"c = a + b =\", c)\n",
    "print(\"d = a - b =\", d)\n",
    "print(\"e = a * b =\", e)\n",
    "print(\"f = a / b =\", f)\n",
    "print(\"g = b ** 3 =\", g)"
   ]
  },
  {
   "cell_type": "markdown",
   "id": "e72279dc",
   "metadata": {},
   "source": [
    "I en del tilfeller ønsker vi bare å plusse på et tall på en variabel, men vi ønsker\n",
    "å unngå å definere en ny variabel for resultatet. I stedet overskriver vi verdien variabelen hadde\n",
    "med en ny.\n",
    "Tenk deg at vi har en variabel kalt `a` som har en verdi, for eksempel setter vi at `a = 2`. \n",
    "Vi kan gjøre alle de fire algebraiske regneoperasjonene med et tall `b`. La oss si at `b = 4` for eksempel.\n",
    "Det som foregår er at vi bruker verdien `a` har *før* man begynner til å gjøre regneoperasjon med `b`,\n",
    "og så lagrer man resultatet av regneoperasjonen i `a`. "
   ]
  },
  {
   "cell_type": "code",
   "execution_count": 46,
   "id": "d039fafd",
   "metadata": {},
   "outputs": [
    {
     "name": "stdout",
     "output_type": "stream",
     "text": [
      "a = a + b resulterte i at a =  6\n",
      "a = a - b resulterte i at a =  2\n",
      "a = a * b endte med at a =   8\n",
      "a = a / b førte til at a =  2.0\n"
     ]
    }
   ],
   "source": [
    "# Definere variablene var og t med verdiene vi antok.\n",
    "a = 2\n",
    "b = 4\n",
    "\n",
    "# Utfører de fire regneoperasjonene og lagrer resultatet i var. \n",
    "# La oss kommentere utregningen underveis så vi forstår hva som foregår.\n",
    "\n",
    "a = a + b # Regner ut a + b og lagrer verdien som blir regnet ut med variabelnavnet a. \n",
    "# Opprinnelig så hadde vi at a = 2 og b = 4. a + b er da 6, så den nye verdien til a blir a = 6.\n",
    "print(\"a = a + b resulterte i at a = \", a)\n",
    "\n",
    "a = a - b # Regner ut a - b og lagrer verdier som blir regnet ut med variabelnavnet a.\n",
    "# b er fortsatt b = 4, men a = 6. a - b er da 6 - 4 = 2, så den nye verdien til a blir a = 2.\n",
    "print(\"a = a - b resulterte i at a = \", a)\n",
    "\n",
    "\n",
    "a = a * b # Regner ut a ganget med b og lagrer verdien som blir regnet ut i varabelnavnet a\n",
    "# a = 2 og b = 4, så a * b = 2 * 4 = 8. Den nye verdien til a blir derfor a = 8.\n",
    "print(\"a = a * b endte med at a =  \", a)\n",
    "\n",
    "a = a / b # Regner ut a delt med b og lagrer verdien som blir regnet ut i variabelnavnet a.\n",
    "# Nå var a = 8 og b = 4, så a / b = 8 / 4 = 2. Derfor må a = 2 etter denne utregningen. \n",
    "print(\"a = a / b førte til at a = \", a)"
   ]
  },
  {
   "cell_type": "markdown",
   "id": "5eaa31a8",
   "metadata": {},
   "source": [
    "De forskjellige operasjonene kan representeres med det vi kan kalle *shorthands* eller *forenklede skrivemåter*. Følgende shorthands gjelder:\n",
    "\n",
    "- `a += b` er det samme som `a = a + b`.\n",
    "- `a -= b` er det samme som `a = a - b`.\n",
    "- `a *= b` er det samme som `a = a * b`.\n",
    "- `a /= b` er det samme som `a = a / b`.\n",
    "\n",
    "Det er et fett hvilke av disse dere bruker, men vit at de finnes som alternative skrivemåter."
   ]
  },
  {
   "cell_type": "markdown",
   "id": "0fe86c15",
   "metadata": {},
   "source": [
    "### Regnerekkefølge"
   ]
  },
  {
   "cell_type": "markdown",
   "id": "0d320b68",
   "metadata": {},
   "source": [
    "Vi vet nå hvordan matematiske operasjoner mellom tall uttrykkes, så det neste naturlige steget\n",
    "er å vite hvilken *regnerekkefølge* Python følge.\n",
    "Regnerekkefølgen skjer slik:\n",
    "\n",
    "1. Uttrykk i parenteser.\n",
    "2. Divisjon\n",
    "3. Multiplikasjon\n",
    "4. Addisjon og subtraksjon\n",
    "\n",
    "Uttrykk i parenteser følger regnerekkefølgepunktene 2 til 4.\n",
    "La oss se på et eksempel:"
   ]
  },
  {
   "cell_type": "markdown",
   "id": "5ec93df4",
   "metadata": {},
   "source": [
    "#### Eksempel 1: regnerekkefølge uten noen parenteser"
   ]
  },
  {
   "cell_type": "code",
   "execution_count": 47,
   "id": "22de4eff",
   "metadata": {},
   "outputs": [],
   "source": [
    "a = 3 * 4 / 2 * 5 + 2 - 1"
   ]
  },
  {
   "cell_type": "markdown",
   "id": "72a01fa4",
   "metadata": {},
   "source": [
    "Det er ingen parentes i uttrykket, så vi går rett til punkt 2.\n",
    "Når `a` regnes ut, regner datamaskinen først ut `4 / 2`. Deretter ganger man med `3` og `5` (irrelevant hvilken rekkefølge det skjer). Så plusser man med `2` og trekker  fra `1`.\n",
    "Altså forventer vi at resultatet blir\n",
    "`a = 3 * (4 / 2) * 5 + 2 - 1 = 3 * 2 * 5 + 2 - 1 = 30 + 2 - 1 = 31`. La oss printe ut resultatet å se:"
   ]
  },
  {
   "cell_type": "code",
   "execution_count": 48,
   "id": "4eff6454",
   "metadata": {},
   "outputs": [
    {
     "name": "stdout",
     "output_type": "stream",
     "text": [
      "a = 31.0\n",
      "a = 31.0\n",
      "a = 31.0\n"
     ]
    }
   ],
   "source": [
    "# La oss printe ut på flere forskjellige måter som alle gir samme resultat her:\n",
    "print(f\"a = {a}\") \n",
    "print(f\"{a = }\") # Alternativ måte å printe ut på hvis man har python 3.9 eller senere.\n",
    "print(\"a =\", a) # Alternativ måte å printe ut på som funker med alle versjoner av python."
   ]
  },
  {
   "cell_type": "markdown",
   "id": "80617e9d",
   "metadata": {},
   "source": [
    "#### Eksempel 2: regnerekkefølge med parentes\n",
    "La oss ta enda et eksempel der vi inkluderer en parentes også:"
   ]
  },
  {
   "cell_type": "code",
   "execution_count": 49,
   "id": "a7ba9ce2",
   "metadata": {},
   "outputs": [],
   "source": [
    "a = 3 * 12 / (3 * 4) + 2"
   ]
  },
  {
   "cell_type": "markdown",
   "id": "fc075a0c",
   "metadata": {},
   "source": [
    "Her skal vi regne ut parentesen først, og deretter utføre alle de andre operasjonene. Følger vi de slavisk, får vi\n",
    "\n",
    "1. Parentes først: `a = 3 * 12 / (3 * 4) + 2 = 3 * 12 / (12) + 2`.\n",
    "2. Divisjon next: `a = 3 * 12 / 12 + 2 = 3 * 1 + 2`.\n",
    "3. Multiplikasjon: `a = 3 * 1 + 2 = 3 + 2`. \n",
    "4. Til slutt, addisjon og subtraksjon: `a = 3 + 2 = 5`.\n",
    "\n",
    "Så vi forventer at `a = 5`. Ait, la oss sjekke om det stemmer:"
   ]
  },
  {
   "cell_type": "code",
   "execution_count": 50,
   "id": "38458f10",
   "metadata": {},
   "outputs": [
    {
     "name": "stdout",
     "output_type": "stream",
     "text": [
      "a = 5.0\n"
     ]
    }
   ],
   "source": [
    "print(f\"a = {a}\")"
   ]
  },
  {
   "cell_type": "markdown",
   "id": "25185bd5",
   "metadata": {},
   "source": [
    "Det endte med `a = 5.0` og ikke `a = 5` fordi Python på et tidspunkt har konvertert resultatet fra `int` til `float`. Det trenger vi ikke bekymre oss noe over"
   ]
  },
  {
   "cell_type": "markdown",
   "id": "876be605",
   "metadata": {},
   "source": [
    "## For- Og While løkker"
   ]
  },
  {
   "cell_type": "markdown",
   "id": "cd063ccd",
   "metadata": {},
   "source": [
    "I programmering er **løkker** en måte å formulere en operasjon som skal gjøres gjentatte ganger. \n",
    "For å gjøre det enklere å snakke om det, skal vi introdusere et nytt ord. En **algoritme**\n",
    "er en samling regneoperasjoner gjort i spesifikk rekkefølge. \n",
    "Et eksempel på en algoritme dere kjenner til er \n",
    "*polynomdivisjon*. Vi kunne i prinsippe programmert en kode som gjør dette mellom to polynomer. Det hadde vi gjort ved å formulere det som en sekvens av matematiske operasjoner\n",
    "som når gjort i en spesifikk rekkefølge vil lede til at man gjør polynomdivisjon.\n",
    "\n",
    "\n",
    "Generelt kan vi dele disse inn i to kategorier:\n",
    "\n",
    "1. **For** løkker der man har forhåndsbestemt hvor mange ganger man skal utføre en algoritme\n",
    "2. **While** løkker der man utfører en algoritme frem til en **betingelse** er brutt.\n",
    "\n",
    "Vi skal se på de to typene hver for seg i detalj:\n"
   ]
  },
  {
   "cell_type": "markdown",
   "id": "2a32cc15",
   "metadata": {},
   "source": [
    "## For løkker (aka `for` loops)"
   ]
  },
  {
   "cell_type": "markdown",
   "id": "4b41af74",
   "metadata": {},
   "source": [
    "Vi trenger ikke tenke på noe mer enn to typer `for` løkker:\n",
    "\n",
    "1. `for` løkke som løper over en heltalls variabel.\n",
    "2. `for` løkke som løper over elementer i en liste.\n",
    "3. Nøstede `for` løkker. Dette er `for` løkker inne i andre `for` løkker.\n",
    "\n",
    "La oss se på det første tilfellet."
   ]
  },
  {
   "cell_type": "markdown",
   "id": "5dcdb617",
   "metadata": {},
   "source": [
    "### `for` løkke over en heltalls variabel"
   ]
  },
  {
   "cell_type": "markdown",
   "id": "7a4bf3e1",
   "metadata": {},
   "source": [
    "Den generiske *syntaksen* for en `for` løkke av denne typen er \n",
    "\n",
    "```python\n",
    "for i in range(start, stop, step):\n",
    "    # Gjør noe kode greier her \n",
    "```\n",
    "\n",
    "Hvis vi tar oss litt tid til å snakke om hva denne lille kodesnutten gjør, \n",
    "kan vi forstå generelt hvordan vi skal lese og skrive denne type `for` løkke.\n",
    "La oss merke oss et par punkter med info:\n",
    "\n",
    "1. Når `for` løkken starter, lager Python *loop* variabelen `i` for oss automatisk.\n",
    "2. Funksjonen `range` tar bare heltall, slik at `start`, `stop` og `step` må være heltall, aka variabler av typen `int`.\n",
    "\n",
    "Løper man gjennom `for` løkken, vil man se at verdien til `i` vil være som følger:\n",
    "- Første iterasjon: `i = start`\n",
    "- Andre iterasjon: `i = start + step`\n",
    "- Tredje iterasjon: `i = start + 2 * step`\n",
    "\n",
    "og så videre. `for` løkken holder på så lenge `i` ikke har passert `stop` sin verdi. \n",
    "Den siste verdien `i` kan få er den siste verdien før den ble lik eller passerte `stop`.\n",
    "\n",
    "\n",
    "La oss se på et par konkret eksempler:"
   ]
  },
  {
   "cell_type": "code",
   "execution_count": 51,
   "id": "31931f61",
   "metadata": {},
   "outputs": [
    {
     "name": "stdout",
     "output_type": "stream",
     "text": [
      "i =  0\n",
      "i =  2\n",
      "i =  4\n"
     ]
    }
   ],
   "source": [
    "# For loop fra 0 til 4 som tar 2 steg av gangen:\n",
    "for i in range(0, 5, 2):\n",
    "    print(\"i = \", i)"
   ]
  },
  {
   "cell_type": "code",
   "execution_count": 52,
   "id": "a8a24575",
   "metadata": {},
   "outputs": [
    {
     "name": "stdout",
     "output_type": "stream",
     "text": [
      "j =  5\n",
      "j =  4\n",
      "j =  3\n",
      "j =  2\n",
      "j =  1\n"
     ]
    }
   ],
   "source": [
    "# For loop fra 5 til 1 som tar et steg nedover i verdi av gangen:\n",
    "# I tilfellet der start er større enn slutt og vi går nedover,\n",
    "# Dette fortsetter til den siste verdien `j` har som ligger før `stop = 0`, som er `j = 1`.\n",
    "for j in range(5, 0, -1):\n",
    "    print(\"j = \", j)"
   ]
  },
  {
   "cell_type": "markdown",
   "id": "21c945f7",
   "metadata": {},
   "source": [
    "Funksjonen `range` har noen **default** verdier for `start` og `step`. Det vil si at disse har fastesatte verdier hvis du ikke spesifiserer de selv. Disse er\n",
    "satt til `start = 0` og `step = 1`, slik at hvis vi skriver `for k in range(5)`,\n",
    "vil loopen starte med `k = 0` og gå ett og ett steg opp til og med `5 - 1 = 4`. La oss se:"
   ]
  },
  {
   "cell_type": "code",
   "execution_count": 53,
   "id": "a8f296c4",
   "metadata": {},
   "outputs": [
    {
     "name": "stdout",
     "output_type": "stream",
     "text": [
      "k =  0\n",
      "k =  1\n",
      "k =  2\n",
      "k =  3\n",
      "k =  4\n"
     ]
    }
   ],
   "source": [
    "for k in range(5):\n",
    "    print(\"k = \", k)"
   ]
  },
  {
   "cell_type": "code",
   "execution_count": 54,
   "id": "035b953a",
   "metadata": {},
   "outputs": [
    {
     "name": "stdout",
     "output_type": "stream",
     "text": [
      "l = 1\n",
      "l = 4\n"
     ]
    }
   ],
   "source": [
    "# Her starter vi med l = 1, også legger vi til 3 til l helt til den siste verdien som ligger før stop = 7.\n",
    "for l in range(1, 7, 3):\n",
    "    print(f\"l = {l}\")"
   ]
  },
  {
   "cell_type": "markdown",
   "id": "8f2f8875",
   "metadata": {},
   "source": [
    "### `for` løkker over elementer i en liste"
   ]
  },
  {
   "cell_type": "markdown",
   "id": "b433ee36",
   "metadata": {},
   "source": [
    "`for` løkker over elementer i en liste er en del enklere å forstå. \n",
    "Den generelle strukturen er\n",
    "\n",
    "```python\n",
    "for element in en_liste:\n",
    "    #Gjør noe med element her\n",
    "```\n",
    "\n",
    "La oss bruke listen vi snakket om\n",
    "når vi introduserte variabler og datatyper:"
   ]
  },
  {
   "cell_type": "code",
   "execution_count": 55,
   "id": "79ea304a",
   "metadata": {},
   "outputs": [],
   "source": [
    "a = 2 # int\n",
    "b = 2.0 # float\n",
    "min_melding = \"Eksempel på en hvordan en variabel som lagrer tekst\" # str\n",
    "min_liste = [a, b, min_melding] # list med elementer av typene [int, float, str]."
   ]
  },
  {
   "cell_type": "code",
   "execution_count": 56,
   "id": "a6f41f70",
   "metadata": {},
   "outputs": [
    {
     "name": "stdout",
     "output_type": "stream",
     "text": [
      "element =  2\n",
      "element =  2.0\n",
      "element =  Eksempel på en hvordan en variabel som lagrer tekst\n"
     ]
    }
   ],
   "source": [
    "for element in min_liste:\n",
    "    print(\"element = \", element)"
   ]
  },
  {
   "cell_type": "markdown",
   "id": "fbe9b5ed",
   "metadata": {},
   "source": [
    "Merk at det spiller ingen rolle hva vi kaller elementet i listen. Vi kunne for eksempel kalt \n",
    "variaben for `x` i stedet:"
   ]
  },
  {
   "cell_type": "code",
   "execution_count": 57,
   "id": "32678450",
   "metadata": {},
   "outputs": [
    {
     "name": "stdout",
     "output_type": "stream",
     "text": [
      "liste element =  2\n",
      "liste element =  2.0\n",
      "liste element =  Eksempel på en hvordan en variabel som lagrer tekst\n"
     ]
    }
   ],
   "source": [
    "for x in min_liste:\n",
    "    print(\"liste element = \", x)"
   ]
  },
  {
   "cell_type": "markdown",
   "id": "746a6797",
   "metadata": {},
   "source": [
    "### Nøstede `for` løkker"
   ]
  },
  {
   "cell_type": "markdown",
   "id": "80e79c2f",
   "metadata": {},
   "source": [
    "Nøstede `for` løkker er flere `for` nøstet sammen. Med det mener man\n",
    "at en `for` løkke er plassert inn i en annen `for` løkke. Dette kan gjøres mer enn en gang. \n",
    "Vi skal bare ta for oss dette over heltallsvariabler med `range` funksjonen.\n",
    "\n",
    "Generelt sett, kan man skrive disse som\n",
    "\n",
    "```python\n",
    "for i in range(n):\n",
    "    # Kanskje noe kode her\n",
    "    for j in range(m):\n",
    "        # Muligens noe kode her også\n",
    "        for k in range(l):\n",
    "            # Noe kode her, eller kanskje en ny for loop osv ....\n",
    "```\n",
    "\n",
    "der `n`, `m` og `l` er noen heltall. Merk at man kan jo skrive `range` funksjonen med andre steg eller annen start også, så egentlig er det mer generelt å skrive:\n",
    "\n",
    "```python\n",
    "for i in range(start1, stop1, step1):\n",
    "    # Kanskje noe kode her\n",
    "    for j in range(start2, stop2, step2):\n",
    "        # Muligens noe kode her også\n",
    "        for k in range(start3, stop3, step3):\n",
    "            # Noe kode her, eller kanskje en ny for loop osv ....\n",
    "```"
   ]
  },
  {
   "cell_type": "markdown",
   "id": "addbb74b",
   "metadata": {},
   "source": [
    "La oss starte med et eksempel som forklarer vi som foregår i en slik `for` løkke.\n",
    "La oss se på\n",
    "```python\n",
    "for i in range(2):\n",
    "    for j in range(2):\n",
    "        print(f\"i = {i} ; j = {j}\")\n",
    "```\n",
    "\n",
    "La oss forklare hva som foregår i denne loopen stegvis.\n",
    "Når datamaskinen leser koden vår, starter den på den *ytre* loopen over `i`.\n",
    "Deretter går den inn i den *indre* loopen over `j` og fullfører den, før den oppdaterer `i`. \n",
    "Litt mer konkret:\n",
    "\n",
    "- Først settes `i = 0`.\n",
    "- Deretter starter loopen over `j`. `i` holdes konstant mens vi looper over alle verdiene til `j`, som blir `j = 0` og `j = 1`.\n",
    "- Når loopen over `j` er fullført, går vi tilbake til den ytre loopen over `i` og oppdaterer den. Vi får da `i = 1`. \n",
    "- Igjen går vi inn i den indre loopen og looper over alle verdiene til `j` mens `i` holdes konstant. \n",
    "- Begge looper stopper etter at både `i = 1` og `j = 1`, så dette ble siste iterasjon. \n",
    "\n",
    "Oppsummert forventer vi at dette blir printet:\n",
    "```\n",
    "i = 0 ; j = 0\n",
    "i = 0 ; j = 1\n",
    "i = 1 ; j = 0\n",
    "i = 1 ; j = 1\n",
    "```\n",
    "som vi kan bekrefte:"
   ]
  },
  {
   "cell_type": "code",
   "execution_count": 58,
   "id": "e6e5fb4d",
   "metadata": {},
   "outputs": [
    {
     "name": "stdout",
     "output_type": "stream",
     "text": [
      "i = 0 ; j = 0\n",
      "i = 0 ; j = 1\n",
      "i = 1 ; j = 0\n",
      "i = 1 ; j = 1\n"
     ]
    }
   ],
   "source": [
    "for i in range(2):\n",
    "    for j in range(2):\n",
    "        print(f\"i = {i} ; j = {j}\")"
   ]
  },
  {
   "cell_type": "markdown",
   "id": "d354b39d",
   "metadata": {},
   "source": [
    "La oss ta et eksempel til med 3 nøstede for løkker:\n",
    "\n",
    "```python\n",
    "for i in range(2):\n",
    "    for j in range(2):\n",
    "        for k in range(3):\n",
    "            print(f\"i = {i} ; j = {j} ; k = {k}\")\n",
    "```\n",
    "\n",
    "Forløpet av denne blir som følger:\n",
    "\n",
    "1. Start `for` loop over `i`. Sett `i = 0`\n",
    "    1. Start `for` loop over `j`. Sett `j = 0`.\n",
    "        1. Start `for` loop over `k`. Sett `k = 0`.\n",
    "        2. Øk verdien til `k` med `1` slik at `k = 1`.\n",
    "        3. Øk verdien til `k` med `1` slik at `k = 2`. \n",
    "        4. `for` loopen over `k` er fullført fordi `stop = 3` i dens `for` loop.\n",
    "    2. Øk verdien til `j` med `1`. Altså blir `j = 1`. Dette er den siste verdien til `j` siden den loopen har `stop = 2`.\n",
    "        1. Gjenta alle stegene med `for` loopen over `k`.\n",
    "2. Øk `i` med `1` slik at `i = 1`. Gjenta så loopen over `j` og `k` som over.\n",
    "\n",
    "\n",
    "Det er ikke pent, men konseptuelt er ideen enkel. Vi utfører de indre `for` loopene og jobber oss utover.\n",
    "Dette repeteres til vi er ferdig med alle de ytre loopene. La oss printe ut resultatet hvis som kommer av\n",
    "denne nøstede `for` loopen: "
   ]
  },
  {
   "cell_type": "code",
   "execution_count": 59,
   "id": "30ef5284",
   "metadata": {},
   "outputs": [
    {
     "name": "stdout",
     "output_type": "stream",
     "text": [
      "i = 0 ; j = 0 ; k = 0\n",
      "i = 0 ; j = 0 ; k = 1\n",
      "i = 0 ; j = 0 ; k = 2\n",
      "i = 0 ; j = 1 ; k = 0\n",
      "i = 0 ; j = 1 ; k = 1\n",
      "i = 0 ; j = 1 ; k = 2\n",
      "i = 1 ; j = 0 ; k = 0\n",
      "i = 1 ; j = 0 ; k = 1\n",
      "i = 1 ; j = 0 ; k = 2\n",
      "i = 1 ; j = 1 ; k = 0\n",
      "i = 1 ; j = 1 ; k = 1\n",
      "i = 1 ; j = 1 ; k = 2\n"
     ]
    }
   ],
   "source": [
    "for i in range(2):\n",
    "    for j in range(2):\n",
    "        for k in range(3):\n",
    "            print(f\"i = {i} ; j = {j} ; k = {k}\")"
   ]
  },
  {
   "cell_type": "markdown",
   "id": "e001870a",
   "metadata": {},
   "source": [
    "### `for` løkke eksempler"
   ]
  },
  {
   "cell_type": "markdown",
   "id": "ca3fb787",
   "metadata": {},
   "source": [
    "Hittil har vi bare printet ut variabler man *looper* over i `for` løkken. Det er på tide at vi ser på et par eksempler der vi gjør noe matte."
   ]
  },
  {
   "cell_type": "markdown",
   "id": "87eb24e1",
   "metadata": {},
   "source": [
    "#### Eksempel 1: summen av de 100 første heltallene"
   ]
  },
  {
   "cell_type": "markdown",
   "id": "a09bbe75",
   "metadata": {},
   "source": [
    "Det finnes en historie om en kjent matematiker kalt Gauss som fikk i oppgave av læreren sin å regne\n",
    "ut summen av alle heltallene fra 1 til 100. Det er jo ganske kjedelig i seg selv, men med Python kan\n",
    "vi gjøre det på et blunk. Det matematiske problemet vi ønsker å løse er\n",
    "\n",
    "$$\n",
    "s = 1 + 2 + 3 + \\cdots + 99 + 100.\n",
    "$$\n",
    "\n",
    "Men vi kan være mer generelle og bare tenke oss at vi skal regne ut summen av alle heltall fra 1 til $n$ for et eller annet heltall $n$. Altså ønsker vi regne ut\n",
    "\n",
    "$$\n",
    "s = 1 + 2 + 3 + \\cdots + (n - 1) + n\n",
    "$$\n",
    "\n",
    "Vi vet om en funksjon som genererer heltall på den måten for oss, nemlig `range`.\n",
    "En løsning for å få alle disse heltallene er å bruke `for i in range(1, n + 1, 1)`.\n",
    "Da starter loopen med `i = 1` og tar et og et steg frem til `i = n`. Siden\n",
    "steglengden *by default* er satt lik 1, kan vi droppe å skrive den og i stedet bruke `range(1, n + 1)`.\n",
    "\n",
    "For å summe opp alle heltallene, må vi introdusere en variabel `s` som vi må sette `s = 0` før loopen.\n",
    "Deretter, inne i for loopen, plusser vi `i` med `s` og lagrer resultatet i `s`. Det er to alternativer for dette:\n",
    "- `s = s + i`\n",
    "- `s += i`\n",
    "\n",
    "Begge to gir samme resultat. La oss gjør begge varianter:"
   ]
  },
  {
   "cell_type": "code",
   "execution_count": 60,
   "id": "c088654a",
   "metadata": {},
   "outputs": [
    {
     "name": "stdout",
     "output_type": "stream",
     "text": [
      "Summen av de 100 første heltallene er =  5050\n"
     ]
    }
   ],
   "source": [
    "# Løsning 1\n",
    "\n",
    "s = 0 # Definere variabelen s til være 0 til å begynne med\n",
    "n = 100 # Vi ønsket å regne ut heltallene fra 1 til 100 så vi setter n = 100\n",
    "for i in range(1, n + 1):\n",
    "    s = s + i\n",
    "print(\"Summen av de 100 første heltallene er = \", s)"
   ]
  },
  {
   "cell_type": "code",
   "execution_count": 61,
   "id": "b6e4d962",
   "metadata": {},
   "outputs": [
    {
     "name": "stdout",
     "output_type": "stream",
     "text": [
      "Summen av de 100 første heltallene er =  5050\n"
     ]
    }
   ],
   "source": [
    "# Løsning 2\n",
    "\n",
    "s = 0 # Definere variabelen s til være 0 til å begynne med\n",
    "n = 100 # Vi ønsket å regne ut heltallene fra 1 til 100 så vi setter n = 100\n",
    "for j in range(1, n + 1):\n",
    "    s += j # Jeg bruker `j` her bare for å illustrere at det ikke er farlig hva loop variabelen er kalt\n",
    "print(\"Summen av de 100 første heltallene er = \", s)\n"
   ]
  },
  {
   "cell_type": "markdown",
   "id": "02cc7cb2",
   "metadata": {},
   "source": [
    "#### `for` loop eksempel 2: Regne ut $n!$ (leses $n$-fakultet)"
   ]
  },
  {
   "cell_type": "markdown",
   "id": "02cb3776",
   "metadata": {},
   "source": [
    "Å regne ut $n!$ innebærer å regne ut:\n",
    "\n",
    "$$\n",
    "n! = 1 \\cdot 2 \\cdot 3 \\cdot \\ldots \\cdot (n-1) \\cdot n.\n",
    "$$\n",
    "\n",
    "Eksempelvis er $5! = 1\\cdot 2 \\cdot 3 \\cdot 4 \\cdot 5 = 120$.\n",
    "\n",
    "Vi kan utføre denne regneoperasjonen med en `for` loop i Python.\n",
    "Det naturlige steget er å ha en `for` loop over alle heltallene fra 1 opp til og med $n$.\n",
    "Så vi trenger en `for` loop av typen:\n",
    "\n",
    "```python\n",
    "for i in range(1, n + 1):\n",
    "    # Utregninger her\n",
    "```\n",
    "\n",
    "Men vi er jo nødt til å formulere en algoritme også. Det naturlige er å lage oss en variabel som\n",
    "skal lagre resultatet, la oss kalle den for `n_fakultet`. I motsetning til når vi regnet ut en sum,\n",
    "der vi satt `s = 0` opprinnelig for å ikke påvirke verdien av summen, må vi sette `n_fakultet = 1` til å\n",
    "begynne med fordi å gange et tall med 1 bare blir tallet selv. Så da påvirker vi ikke resultatet av produktet.\n",
    "Med andre ord kan vi løse det slik:"
   ]
  },
  {
   "cell_type": "code",
   "execution_count": 68,
   "id": "4c261b3d",
   "metadata": {},
   "outputs": [
    {
     "name": "stdout",
     "output_type": "stream",
     "text": [
      "n! = 120\n"
     ]
    }
   ],
   "source": [
    "# Løsning 1\n",
    "n = 5\n",
    "n_fakultet = 1\n",
    "for i in range(1, n + 1):\n",
    "    n_fakultet = n_fakultet * i\n",
    "    \n",
    "print(f\"n! = {n_fakultet}\")"
   ]
  },
  {
   "cell_type": "code",
   "execution_count": 69,
   "id": "dad34b18",
   "metadata": {},
   "outputs": [
    {
     "name": "stdout",
     "output_type": "stream",
     "text": [
      "n! = 120\n"
     ]
    }
   ],
   "source": [
    "# Løsning 2 med alternativ måte å skrive gangeoperasjonen på:\n",
    "n = 5\n",
    "n_fakultet = 1\n",
    "for i in range(1, n + 1):\n",
    "    n_fakultet *= i\n",
    "    \n",
    "print(f\"n! = {n_fakultet}\")"
   ]
  },
  {
   "cell_type": "markdown",
   "id": "516e529c",
   "metadata": {},
   "source": [
    "## While løkker (aka `while` loops)"
   ]
  },
  {
   "cell_type": "markdown",
   "id": "f265fbb0",
   "metadata": {},
   "source": [
    "`while` løkker gjentar en kodeblokk frem til et betingelse er brutt.\n",
    "Vi kan skrive `while` løkker som imiterer `for` løkker over heltallsvariabler,\n",
    "og det er den eneste typen vi skal se på her.\n",
    "\n",
    "Den generelle syntaksen er:\n",
    "\n",
    "```python\n",
    "while betingelse:\n",
    "    # Utfør noen operasjoner\n",
    "```\n",
    "\n",
    "En betingelse i python evalueres til `True` eller `False`. Så lenge den blir `True`, vil `while` loopen\n",
    "kjøre. Med en gang den blir `False` stopper `while loopen`. Eksempler på betingelser:"
   ]
  },
  {
   "cell_type": "code",
   "execution_count": 62,
   "id": "fd7147fa",
   "metadata": {},
   "outputs": [],
   "source": [
    "a = 1\n",
    "b = 2\n",
    "betingelse1 = (a > b) # `>` betyr `større enn`. a er ikke større enn b, så dette blir False\n",
    "betingelse2 = (a == b)  # `==` betyr `er lik`. a er ikke eksakt lik b, så dette blir False\n",
    "betingelse3 = (a != b) # `!=` betyr `er ulik`. a er ulik b, så dette blir True\n",
    "betingelse4 = (a <= b ) # `<=` betyr `mindre enn eller lik`. a er mindre enn eller lik b, så dette blir True"
   ]
  },
  {
   "cell_type": "markdown",
   "id": "28b8a81b",
   "metadata": {},
   "source": [
    "La oss gjøre en *sanity check* og se at det ble som forventet:"
   ]
  },
  {
   "cell_type": "code",
   "execution_count": 63,
   "id": "c37f5b98",
   "metadata": {},
   "outputs": [
    {
     "name": "stdout",
     "output_type": "stream",
     "text": [
      "(a > b) = False\n",
      "(a == b) = False\n",
      "(a != b) = True\n",
      "(a <= b) = True\n"
     ]
    }
   ],
   "source": [
    "print(\"(a > b) =\", betingelse1)\n",
    "print(\"(a == b) =\", betingelse2)\n",
    "print(\"(a != b) =\", betingelse3)\n",
    "print(\"(a <= b) =\", betingelse4)"
   ]
  },
  {
   "cell_type": "markdown",
   "id": "8c065b1a",
   "metadata": {},
   "source": [
    "La oss la en `while` loop som gjør det samme som\n",
    "\n",
    "```python\n",
    "for i in range(5):\n",
    "    print(\"i = \", i)\n",
    "```\n",
    "\n",
    "Forskjellen fra en `for` loop er at vi må lage variabelen `i` selv. \n",
    "Før vi starter `while` loopen, må vi i såfall sette `i = 0`. \n",
    "Deretter må vi plusse på `1` til `i` for hver iterasjon frem til vi når `i = 4`. \n",
    "Når `i = 4` ønsker vi at `while` loopen skal stoppe. Hvis vi setter vår betingelse\n",
    "til å være `betingelse = (i <= 4)`, vil vi oppnå dette:"
   ]
  },
  {
   "cell_type": "code",
   "execution_count": 64,
   "id": "a3f5b0c0",
   "metadata": {},
   "outputs": [
    {
     "name": "stdout",
     "output_type": "stream",
     "text": [
      "i =  0\n",
      "i =  1\n",
      "i =  2\n",
      "i =  3\n",
      "i =  4\n"
     ]
    }
   ],
   "source": [
    "i = 0 # Vi definerer `i` selv og setter den lik 0\n",
    "# Legg merke til at det ikke er nødvendig med en parentes rundt betingelsen \n",
    "# Vi kan skrive `i <= 4` i stedet for (i <= 4).\n",
    "while i <= 4:\n",
    "    print(\"i = \", i)\n",
    "    i = i + 1"
   ]
  },
  {
   "cell_type": "markdown",
   "id": "4b43703c",
   "metadata": {},
   "source": [
    "### `while` loop eksempler"
   ]
  },
  {
   "cell_type": "markdown",
   "id": "0eb27820",
   "metadata": {},
   "source": [
    "Det er på tide at vi ser på noen eksempeler på bruk av `while` løkker."
   ]
  },
  {
   "cell_type": "markdown",
   "id": "2b8c0fee",
   "metadata": {},
   "source": [
    "#### Eksempel 1: Regne ut summen av de $n$ første heltallene, igjen"
   ]
  },
  {
   "cell_type": "markdown",
   "id": "c98bfbfe",
   "metadata": {},
   "source": [
    "La oss repetere eksempel vi hadde i stad. Vi ønsker å regne ut $n$ første heltallene:\n",
    "\n",
    "$$\n",
    "s = 1 + 2 + 3 + \\cdots + (n-1) + n.\n",
    "$$\n",
    "\n",
    "I `while` loopen må vi selv sette opp betingelsen som må være oppfylt så lenge loopen kjører.\n",
    "La oss innføre en loop variabel `i` som representerer hvilket ledd i summen vi er på,\n",
    "som i dette tilfellet også betyr hvilket tall vi skal plusse på. La `n` være siste tallet vi skal legge til.\n",
    "La `s` være variabelen som skal lagre summen av alle tallene. Betingelsen vi må sette er at `i <= n` (aka vi kjører loopen så lenge `i` er mindre enn eller lik `n`),\n",
    "også må vi gradvis øke `i` med en manuelt. \n",
    "Med andre ord bør koden se slik ut:"
   ]
  },
  {
   "cell_type": "code",
   "execution_count": 65,
   "id": "5bc217a5",
   "metadata": {},
   "outputs": [
    {
     "name": "stdout",
     "output_type": "stream",
     "text": [
      "s = 5050\n"
     ]
    }
   ],
   "source": [
    "# Løsning 1\n",
    "\n",
    "s = 0 # Vi må starte med 0 når vi skal regne ut en sum\n",
    "i = 1 # Det første tallet vi skal legge til er 1, så vi kan starte med det.\n",
    "n = 100 # Problemstillingen vår var at vi skulle regne ut summen av de 100 første heltallene\n",
    "\n",
    "\n",
    "while i <= n:\n",
    "    s = s + i # Pluss sammen `s` og `i` og lagre resultatet i `s`.\n",
    "    i = i + 1 # Øk `i` med 1. Aka pluss `i` og `1` og lagre resultatet i variabelen `i`.\n",
    "print(f\"s = {s}\")"
   ]
  },
  {
   "cell_type": "code",
   "execution_count": 66,
   "id": "6e02ed86",
   "metadata": {},
   "outputs": [
    {
     "name": "stdout",
     "output_type": "stream",
     "text": [
      "s = 5050\n"
     ]
    }
   ],
   "source": [
    "# Løsning 2 der vi bruker `+=` skrivemåten i stedet.\n",
    "\n",
    "s = 0 # Vi må starte med 0 når vi skal regne ut en sum\n",
    "i = 1 # Det første tallet vi skal legge til er 1, så vi kan starte med det.\n",
    "n = 100 # Problemstillingen vår var at vi skulle regne ut summen av de 100 første heltallene\n",
    "\n",
    "\n",
    "while i <= n:\n",
    "    s += i # Pluss sammen `s` og `i` og lagre resultatet i `s`.\n",
    "    i += 1 # Øk `i` med 1. Aka pluss `i` og `1` og lagre resultatet i variabelen `i`.\n",
    "print(f\"s = {s}\")"
   ]
  },
  {
   "cell_type": "markdown",
   "id": "643143f7",
   "metadata": {},
   "source": [
    "#### `while` loop eksempel 2: Regne ut $n!$ igjen"
   ]
  },
  {
   "cell_type": "markdown",
   "id": "f08384e8",
   "metadata": {},
   "source": [
    "For å regne ut $n!$ med en `while` loop må vi lage loop variabelen selv og lage oss en betingelse. \n",
    "Hvis vi velger `i` til å være loop variabelen vår, blir betingelsen som må oppfylles at `i <= n`. \n",
    "Løsningen kan da skrives som:"
   ]
  },
  {
   "cell_type": "code",
   "execution_count": 71,
   "id": "0ed39a48",
   "metadata": {},
   "outputs": [
    {
     "name": "stdout",
     "output_type": "stream",
     "text": [
      "n! = 120\n"
     ]
    }
   ],
   "source": [
    "# Løsningsforslag 1\n",
    "n = 5\n",
    "i = 1\n",
    "n_fakultet = 1\n",
    "while i <= n:\n",
    "    n_fakultet = n_fakultet * i\n",
    "    i = i + 1\n",
    "    \n",
    "print(f\"n! = {n_fakultet}\")"
   ]
  },
  {
   "cell_type": "code",
   "execution_count": 73,
   "id": "4282e58f",
   "metadata": {},
   "outputs": [
    {
     "name": "stdout",
     "output_type": "stream",
     "text": [
      "n! = 120\n"
     ]
    }
   ],
   "source": [
    "# Løsningsforslag 2 med alterantiv skrivemåte for matteoperasjoner\n",
    "n = 5 \n",
    "i = 1 \n",
    "n_fakultet = 1\n",
    "while i <= n:\n",
    "    n_fakultet *= i # Alternativ til n_fakultet = n_fakultet * i\n",
    "    i += 1 # Alternativ til i = i + 1.\n",
    "    \n",
    "print(f\"n! = {n_fakultet}\")"
   ]
  },
  {
   "cell_type": "markdown",
   "id": "5ad5f0a5",
   "metadata": {},
   "source": [
    "# If-else blokker"
   ]
  },
  {
   "cell_type": "markdown",
   "id": "a24ebd42",
   "metadata": {},
   "source": [
    "`if`-`else` blokker er måter å skrive kodeblokker som skal utføres kun hvis en bestemt betingelse er oppfylt.\n",
    "\n",
    "Den generiske strukturen på en slik blokk er \n",
    "```python\n",
    "if betingelse:\n",
    "    # Gjør noe kode greier hvis `betingelse` er True\n",
    "else:\n",
    "    # Gjør noe annet dersom `betingelse` er False.\n",
    "```\n",
    "\n",
    "Hvis det finnes flere forskjellige betingelser, har man en `elif` *operator* som gjør at vi kan bryte opp koden i enda flere kodeblokker:\n",
    "\n",
    "```python\n",
    "if betingelse1:\n",
    "    # Kjør denne kodeblokken hvis `betingelse1` er True\n",
    "elif betingelse2:\n",
    "    # Kjør denne kodeblokken hvis `betingelse2` er True\n",
    "elif betingelse3:\n",
    "    # Kjør denne kodeblokken hvis `betingelse3` er True\n",
    "else:\n",
    "    # Kjør denne kodeblokken hvis `betingelse1`, `betingelse2` og `betingelse3` alle er False.\n",
    "```\n",
    "\n",
    "Du kan i prinsippet ha så mange slik du vil. For vår del blir det nok ikke aktuelt med spesielt mange av dem\n"
   ]
  },
  {
   "cell_type": "markdown",
   "id": "90d14efa",
   "metadata": {},
   "source": [
    "### `if`-`else` eksempler\n",
    "\n",
    "La oss se på noen eksempler der vi trenger `if`-`else` blokker."
   ]
  },
  {
   "cell_type": "markdown",
   "id": "ae87d194",
   "metadata": {},
   "source": [
    "#### `if`-`else` eksempel 1: "
   ]
  },
  {
   "cell_type": "code",
   "execution_count": 75,
   "id": "d5cf1284",
   "metadata": {},
   "outputs": [
    {
     "name": "stdout",
     "output_type": "stream",
     "text": [
      "a er ulik b\n"
     ]
    }
   ],
   "source": [
    "a = 1\n",
    "b = 2\n",
    "\n",
    "if a == b:\n",
    "    print(\"a er lik b\") # Dette er ikke sant, så vil ikke kjøre denne kodeblokken\n",
    "else:\n",
    "    print(\"a er ulik b\") # a er ulik b, så denne vil kjøre"
   ]
  },
  {
   "cell_type": "markdown",
   "id": "9a86faa2",
   "metadata": {},
   "source": [
    "Dette eksempelet er selvfølgelig tåpelig. Hvorfor i all verden skal vi skrive en `if`-`else` blokk når vi allerede vet at `a` er ulik `b`. Det eneste poenget her er at du skal forstå hvordan en enkel betingelse ser ut. Jeg skal gi noen bedre eksempler etter vi har sett på funksjoner, som er det neste tema."
   ]
  },
  {
   "cell_type": "markdown",
   "id": "9e167e99",
   "metadata": {},
   "source": [
    "## Funksjoner"
   ]
  },
  {
   "cell_type": "markdown",
   "id": "bad778c7",
   "metadata": {},
   "source": [
    "Hittil har vi skrevet kode på en måte som man egentlig ikke gjør i Python.\n",
    "Koden vår regner jo bare ut en spesifikk problemstilling fordi vi har satt inn faste verdier.\n",
    "\n",
    "- Eksempelet vi så på med å regne ut summen av de 100 første heltallene regner jo bare ut akkurat det. Vi har teknisk sett utviklet koden slik at den funker med en vilkårlig verdi for `n` slik at vi får summen av `n` første heltallene. Så vi kan manuelt gå inn å endre verdien til `n` slik at vi for regnet ut den samme summen for en annen verdi av `n`. \n",
    "- Eksempelet med å regne ut $n!$ kan også funke med en tilfeldig ferdig for `n`, men vi har likevel kodet med en spesifikk verdi, nemlig `n = 5`. \n",
    " \n",
    "Python har en naturlig måte å gjøre koden gjenbrukbar ved å la oss skrive koden slik at\n",
    "vi har noen variabler som kan variere fra gang til gang. Dette kalles **funksjoner** i Python\n",
    "og kan minne om funksjoner i matematikk. Men de er ikke helt de samme, og vi skal få en viss idé om forskjellen etter hvert."
   ]
  },
  {
   "cell_type": "markdown",
   "id": "bc61f41f",
   "metadata": {},
   "source": [
    "### Generell syntax for en funksjon:\n",
    "\n",
    "```python\n",
    "def funksjons_navn(argument1, argument2, argument3):\n",
    "    #Noe kode her som regner ut noe som lagres i `resultat`. \n",
    "    return resultat\n",
    "```\n",
    "\n",
    "En funksjon kan ha mange forskjellige argumenter. Den må ikke ha mer enn ett. Den må egentlig engang ha et argument, men vi skal som regel bare bruke det der man trenger minst ett argument."
   ]
  },
  {
   "cell_type": "markdown",
   "id": "8ee0529e",
   "metadata": {},
   "source": [
    "### Eksempel 1: Regne ut funksjonen $f(x) = x^2$."
   ]
  },
  {
   "cell_type": "markdown",
   "id": "e369090e",
   "metadata": {},
   "source": [
    "For å definere $f(x) = x^2$ som en Python funksjon, kan vi skrive:"
   ]
  },
  {
   "cell_type": "code",
   "execution_count": 76,
   "id": "f4371959",
   "metadata": {},
   "outputs": [],
   "source": [
    "def f(x):\n",
    "    \"\"\"Regner ut x^2 for en spesifikk verdi av x.\n",
    "    \n",
    "    Args:\n",
    "        x (float eller int):\n",
    "            Verdien for x som vi skal regne ut x^2 i.\n",
    "    Returns:\n",
    "        Verdien til x^2 i x.\n",
    "    \"\"\"\n",
    "    return x ** 2"
   ]
  },
  {
   "cell_type": "markdown",
   "id": "d8a497e6",
   "metadata": {},
   "source": [
    "Man må ikke ha med tekststrengen der som forklarer hva funksjonen gjør for at Python skal kjøre koden.\n",
    "Python ignorerer tekststrengen helt. Tekststrengen kalles en **docstring** og er ment for å *dokumentere* hvordan funksjonen funker og hva den gjør. Hensikten med den er for den som skal lese eller bruke koden skal forstå nettopp dette. I dette tilfellet sier den at vi må vi gi en verdi av `x` som argument. Så returnerer funksjonen hva verdien av `x ** 2` er. \n",
    "Under *Args* forklarer man hvilke argumenter som skal sendes inn og hva de betyr. Under *Returns* forklarer man hva som returneres av funksjonen til brukeren. \n",
    "\n",
    "La oss se på hvordan man kan bruke:"
   ]
  },
  {
   "cell_type": "code",
   "execution_count": 79,
   "id": "93866e44",
   "metadata": {},
   "outputs": [
    {
     "name": "stdout",
     "output_type": "stream",
     "text": [
      "y = 4\n"
     ]
    }
   ],
   "source": [
    "x = 2\n",
    "y = f(x) # funksjonen `f` tar inn `x` og returner en verdi som lagres i variabelen `y`.\n",
    "print(f\"y = {y}\")"
   ]
  },
  {
   "cell_type": "markdown",
   "id": "7c1ee10b",
   "metadata": {},
   "source": [
    "Som sagt trenger vi ikke lage en docstring. I praksis, hadde følgende funksjonsdefinisjon vært nok:"
   ]
  },
  {
   "cell_type": "code",
   "execution_count": 80,
   "id": "31972f83",
   "metadata": {},
   "outputs": [],
   "source": [
    "def f(x):\n",
    "    return x ** 2"
   ]
  },
  {
   "cell_type": "markdown",
   "id": "36d36d70",
   "metadata": {},
   "source": [
    "La oss sjekke at den gjør akkurat det samme:"
   ]
  },
  {
   "cell_type": "code",
   "execution_count": 82,
   "id": "f5df06cc",
   "metadata": {},
   "outputs": [
    {
     "name": "stdout",
     "output_type": "stream",
     "text": [
      "y = 4\n"
     ]
    }
   ],
   "source": [
    "x = 2\n",
    "y = f(x) # funksjonen `f` tar inn `x` og returner en verdi som lagres i variabelen `y`.\n",
    "print(f\"y = {y}\")"
   ]
  },
  {
   "cell_type": "markdown",
   "id": "7cdb3d33",
   "metadata": {},
   "source": [
    "Jepp, det gjør den :-)"
   ]
  },
  {
   "cell_type": "markdown",
   "id": "2cc49c0d",
   "metadata": {},
   "source": [
    "### Eksempel 2: En funksjon for å regne ut summen av de $n$ første heltallene"
   ]
  },
  {
   "cell_type": "markdown",
   "id": "2d7ba070",
   "metadata": {},
   "source": [
    "Som sagt kunne vi i stedet lagd en funksjon som regnet ut summen av de $n$ første heltallene, så kan vi sende inn forskjellige verdier avhengig av hva vi er interessert i å regne ut. Den verdien som skal variere er $n$, så vi kan definere en funksjon som dette:"
   ]
  },
  {
   "cell_type": "code",
   "execution_count": 83,
   "id": "ad718b59",
   "metadata": {},
   "outputs": [],
   "source": [
    "def sum_av_n_heltall(n):\n",
    "    \"\"\"Regner ut summen av de `n` første heltallene.\n",
    "    \n",
    "    Args:\n",
    "        n (int):\n",
    "            Heltallet vi skal summe opp til, dvs\n",
    "            s = 1 + 2 + ... + n\n",
    "            \n",
    "    Returns:\n",
    "        s (float):\n",
    "            Summen av de `n` første heltallene.\n",
    "    \"\"\"\n",
    "    s = 0\n",
    "    for i in range(1, n + 1):\n",
    "        s += i\n",
    "    return s"
   ]
  },
  {
   "cell_type": "markdown",
   "id": "c3646eed",
   "metadata": {},
   "source": [
    "La oss se om den gir oss det samme som i stad: "
   ]
  },
  {
   "cell_type": "code",
   "execution_count": 84,
   "id": "d0f315c0",
   "metadata": {},
   "outputs": [
    {
     "name": "stdout",
     "output_type": "stream",
     "text": [
      "s = 5050\n"
     ]
    }
   ],
   "source": [
    "s = sum_av_n_heltall(100)\n",
    "print(f\"s = {s}\")"
   ]
  },
  {
   "cell_type": "markdown",
   "id": "a380dd51",
   "metadata": {},
   "source": [
    "Men nå kan vi kalle på den for alle mulige verdier av `n`. Hva er summen av de 10 første heltallene? Hva med de 23 først heltallene? Hva med de 1000 første? Say no more:"
   ]
  },
  {
   "cell_type": "code",
   "execution_count": 86,
   "id": "47b25f12",
   "metadata": {},
   "outputs": [
    {
     "name": "stdout",
     "output_type": "stream",
     "text": [
      "Sum av 10 første heltall = 55\n",
      "Sum av 23 første heltall = 276\n",
      "Sum av 1000 første heltall = 500500\n"
     ]
    }
   ],
   "source": [
    "print(\"Sum av 10 første heltall =\", sum_av_n_heltall(10))\n",
    "print(\"Sum av 23 første heltall =\", sum_av_n_heltall(23))\n",
    "print(\"Sum av 1000 første heltall =\", sum_av_n_heltall(1000))"
   ]
  },
  {
   "cell_type": "markdown",
   "id": "19742ec1",
   "metadata": {},
   "source": [
    "### Eksempel 3: En funksjon som regner ut $n!$ "
   ]
  },
  {
   "cell_type": "markdown",
   "id": "30371f7a",
   "metadata": {},
   "source": [
    "La oss gjøre det samme med utregningen av $n!$:"
   ]
  },
  {
   "cell_type": "code",
   "execution_count": 87,
   "id": "93becefd",
   "metadata": {},
   "outputs": [],
   "source": [
    "def n_fakultet(n):\n",
    "    \"\"\"Regner ut n! for en gitt n.\n",
    "    \n",
    "    Args:\n",
    "        n (int):\n",
    "            Heltallen man ønsker å regne ut n! av.\n",
    "    \n",
    "    Returns:\n",
    "        p (int):\n",
    "            p er n!\n",
    "    \"\"\"\n",
    "    p = 1\n",
    "    for i in range(1, n + 1):\n",
    "        p *= i\n",
    "    return p"
   ]
  },
  {
   "cell_type": "markdown",
   "id": "4df5b454",
   "metadata": {},
   "source": [
    "La oss sjekke at den gir samme resultat som før:"
   ]
  },
  {
   "cell_type": "code",
   "execution_count": 88,
   "id": "6dff57b4",
   "metadata": {},
   "outputs": [
    {
     "name": "stdout",
     "output_type": "stream",
     "text": [
      "5! = 120\n"
     ]
    }
   ],
   "source": [
    "fem_fakultet = n_fakultet(5)\n",
    "print(f\"5! = {fem_fakultet}\")"
   ]
  },
  {
   "cell_type": "markdown",
   "id": "af988de5",
   "metadata": {},
   "source": [
    "Igjen kan vi nå regne det ut for vilkårlige valg av $n$. For eksempel:"
   ]
  },
  {
   "cell_type": "code",
   "execution_count": 89,
   "id": "91b13514",
   "metadata": {},
   "outputs": [
    {
     "name": "stdout",
     "output_type": "stream",
     "text": [
      "10! = 3628800\n",
      "25! = 15511210043330985984000000\n",
      "3! =  6\n"
     ]
    }
   ],
   "source": [
    "print(\"10! =\", n_fakultet(10))\n",
    "print(\"25! =\", n_fakultet(25))\n",
    "print(\"3! = \", n_fakultet(3))"
   ]
  },
  {
   "cell_type": "markdown",
   "id": "22fa4fc6",
   "metadata": {},
   "source": [
    "### Eksempel 4: Numerisk derivasjon"
   ]
  },
  {
   "cell_type": "markdown",
   "id": "971af4fd",
   "metadata": {},
   "source": [
    "Tidligere i skoleåret så vi på hvordan man kunne lage en kode for å tilnærme verdien til deriverte en funksjon $f(x)$ i et punkt $x$. Formelen for det var\n",
    "\n",
    "$$\n",
    "f'(x) \\approx \\frac{f(x+h) - f(x)}{h},\n",
    "$$\n",
    "der $h$ var en \"liten\" avstand fra $x$. Vi kunne oppnå dette med en funksjon som dette:"
   ]
  },
  {
   "cell_type": "code",
   "execution_count": 93,
   "id": "96c5601e",
   "metadata": {},
   "outputs": [],
   "source": [
    "def deriver(x, f, h=1e-4):\n",
    "    \"\"\"Regner ut en tilnærming til den deriverte av f(x) i x.\n",
    "    \n",
    "    Args:\n",
    "        x (float eller int):\n",
    "            Punktet vi skal regne ut den deriverte i.\n",
    "        f (Python funksjon)\n",
    "            En Python funksjon på formen f(x) som skal representere\n",
    "            funksjonen vi ønsker å derivere.\n",
    "        h (float):\n",
    "            Steglengden bruk i derivasjonsformelen.\n",
    "            Default verdi er satt til `h = 1e-4 = 0.0001`.\n",
    "    \"\"\"\n",
    "    return (f(x + h) - f(x)) / h"
   ]
  },
  {
   "cell_type": "markdown",
   "id": "9c8ef08b",
   "metadata": {},
   "source": [
    "Her har vi satt inn en *default* verdi for `h` så vi ikke nødvendigvis må sende den inn. Hvis vi ikke sender inn en verdi, velger Python `h = 1e-4` automatisk. Vi kan likevel sende inn en verdi for `h` som overskriver default verdien. La oss derivere $g(x) = x^3$ i punktet $x = 1$. Da trenger vi først å definere funksjonen:"
   ]
  },
  {
   "cell_type": "code",
   "execution_count": 94,
   "id": "f3d02485",
   "metadata": {},
   "outputs": [],
   "source": [
    "def g(x):\n",
    "    return x ** 3"
   ]
  },
  {
   "cell_type": "code",
   "execution_count": 95,
   "id": "d3458279",
   "metadata": {},
   "outputs": [
    {
     "name": "stdout",
     "output_type": "stream",
     "text": [
      "3.0003000099987354\n"
     ]
    }
   ],
   "source": [
    "print(deriver(x=1, f=g))"
   ]
  },
  {
   "cell_type": "markdown",
   "id": "90ab35dc",
   "metadata": {},
   "source": [
    "Som stemmer ganske bra siden $g'(x) = 3x^2$, så $g'(1) = 3$."
   ]
  }
 ],
 "metadata": {
  "kernelspec": {
   "display_name": "Python 3 (ipykernel)",
   "language": "python",
   "name": "python3"
  },
  "language_info": {
   "codemirror_mode": {
    "name": "ipython",
    "version": 3
   },
   "file_extension": ".py",
   "mimetype": "text/x-python",
   "name": "python",
   "nbconvert_exporter": "python",
   "pygments_lexer": "ipython3",
   "version": "3.9.12"
  }
 },
 "nbformat": 4,
 "nbformat_minor": 5
}
