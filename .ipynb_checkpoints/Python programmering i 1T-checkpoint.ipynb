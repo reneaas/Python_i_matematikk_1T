{
 "cells": [
  {
   "cell_type": "markdown",
   "id": "b6297aa3",
   "metadata": {},
   "source": [
    "# Python Programmering i 1T"
   ]
  },
  {
   "cell_type": "markdown",
   "id": "4d16415d",
   "metadata": {},
   "source": [
    "Denne oppsummering av Python programmering har to hensikter: \n",
    "\n",
    "1. Gi deg god nok forståelse til å kunne løse Python problemer i 1T\n",
    "2. Gi deg en god grunnleggende forståelse av Python så du kan enklere håndtere det i senere mattekurs. Det er neppe siste gang du skal ha et mattekurs på vgs, så hvis du følger dette dokumentet fra start til slutt og forstår alt sammen, har du lagt deg et godt grunnlag for senere matematikkurs. Du kan fint bruke dette som en referanse til Python senere.\n",
    " \n",
    "Oppdelingen av Python programmeringen er fordelt slik:\n",
    "\n",
    "- Variabler og datatyper\n",
    "- Algebraiske operasjoner\n",
    "- Logiske operatorer\n",
    "- For- og while løkker\n",
    "- If-else blokker\n",
    "- Funksjoner\n",
    "\n",
    "Det er fornuftig å lese gjennom hele oppsummeringen fra start til slutt, det vil gi deg best utbytte og best forståelse. \n",
    "Jeg gir forklaringer både gjennom tekst og gjennom *kodekommentarer*, så ikke gå glipp av dem.\n",
    "Vi skal først se på hvert tema hver for seg. Til slutt, når vi kommer til delen om *funksjoner* skal vi samle en del av ideene sammen og løse litt mer sammensatte problemer. Jeg prøver å gjenbruke de samme matematiske problemene så mye som mulig så du kan fokusere på å lære deg kodingen."
   ]
  },
  {
   "cell_type": "markdown",
   "id": "d22ab221",
   "metadata": {},
   "source": [
    "## Variabler og Datatyper"
   ]
  },
  {
   "cell_type": "markdown",
   "id": "192a7cbe",
   "metadata": {},
   "source": [
    "**Variabler** i Python er navngitt av oss og brukes i Python kode til å lagre og manipulere **data**.\n",
    "Hvilken **datatype** eller **type** variabelen har er avhengig av hva vi spesifiserer i koden."
   ]
  },
  {
   "cell_type": "markdown",
   "id": "e4898677",
   "metadata": {},
   "source": [
    "### Datatyper"
   ]
  },
  {
   "cell_type": "markdown",
   "id": "21402981",
   "metadata": {},
   "source": [
    "Det finnes mange forskjellige datatyper i Python. For oss er de viktigste:\n",
    "\n",
    "- `int` som er heltall.\n",
    "- `float` som er \"flyttall\" (tenk reelle tall).\n",
    "- `str` som er en \"tekststreng\". \n",
    "- `list` som er en liste med *elementer*. Elementene som inneholdes i listen kan være av forskjellige typer. En liste kan også være tom, dvs den inneholder ingen elementer.\n",
    "- `bool` som er en \"sannhetsverdi\" eller *boolske* verdier. Enten er den `True` eller `False`."
   ]
  },
  {
   "cell_type": "markdown",
   "id": "93cad0b8",
   "metadata": {},
   "source": [
    "### Variabler"
   ]
  },
  {
   "cell_type": "markdown",
   "id": "7c895442",
   "metadata": {},
   "source": [
    "For oss vil alle variabler ha en av datatypene vi har sett så langt. \n",
    "Måten man setter navn på variabler følger følgende regler: \n",
    "- For matematiske problemstillinger der notasjon følger matematikken, kan man bruke samme symboler som opptrer i matematikken, for eksempel `x` for verdier på x-aksen eller `y` for verdier på y-aksen.\n",
    "- Hvis variablen ikke har en opplagt matematisk tolkning, er det ønskelig med beskrivende variabelnavn. For eksempel, tenk deg at vi vil ha en variabel som lagrer overskuddet du har etter en måned har passert. Å kalle variablene for `overskudd` er da foretrukket. Ønsker man å bruke flere ord i variabelnavnet, separeres ordene med `_`. For eksempel kunne vi kalt variablen for `mitt_overskudd` i stedet.\n",
    "- Variabelnavn kan *ikke* starte med tall. For eksempel er navn som `1lol` eller `3_lol` **ikke gyldige variabelnavn**. Python vil klage med en *syntax error*. Dette er en type error som dukker opp når vi ikke følger \"grammatikken\" Python forventer. \n",
    "- Tall kan dukke opp når som helst senere i variabelnavnet dog. Alle disse er gyldige skrivemåter: `d2`, `a_2`, `l33t`, `k0ng3`. \n",
    "\n",
    "\n",
    "La oss se på noen eksempler på variabler og hvilken type de har:"
   ]
  },
  {
   "cell_type": "code",
   "execution_count": 1,
   "id": "2133a5ff",
   "metadata": {},
   "outputs": [],
   "source": [
    "# Man skriver kommentarer i Python på denne måten ved å skrive etter \"#\"-symbolet.\n",
    "a = 2 # int\n",
    "b = 2.0 # float\n",
    "min_melding = \"Eksempel på en variabel som lagrer tekst\" # str\n",
    "min_liste = [a, b, min_melding] # list med elementer av typene [int, float, str].\n",
    "en_tom_liste = [] # list, men uten noen elementer\n",
    "min_boolske_variabel = True # `bool` variabel."
   ]
  },
  {
   "cell_type": "markdown",
   "id": "b5475258",
   "metadata": {},
   "source": [
    "Vi kan skrive ut hva \"verdien\" til en variabel er til skjermen ved å bruke en innebygd funksjon kalt `print`. Eksempelvis:"
   ]
  },
  {
   "cell_type": "code",
   "execution_count": 2,
   "id": "9bed3dfe",
   "metadata": {},
   "outputs": [
    {
     "name": "stdout",
     "output_type": "stream",
     "text": [
      "2\n",
      "2.0\n",
      "Eksempel på en variabel som lagrer tekst\n",
      "[2, 2.0, 'Eksempel på en variabel som lagrer tekst']\n",
      "[]\n",
      "True\n"
     ]
    }
   ],
   "source": [
    "print(a) # Skriver ut hvilken verdi `a` har.\n",
    "print(b) # Skriver ut hvilken verdi `b` har.\n",
    "print(min_melding) # Skriver ut hvilken \"verdi\" `min_melding` har.\n",
    "print(min_liste) # Skriver ut hvilken \"verdi\" `min_liste` har.\n",
    "print(en_tom_liste) # Skriver ut den tomme listen vår.\n",
    "print(min_boolske_variabel) # Skriver ut verdien til `min_boolske_variabel`"
   ]
  },
  {
   "cell_type": "markdown",
   "id": "65a60c25",
   "metadata": {},
   "source": [
    "Vi kan finne ut hvilken type en variabel har ved å bruke en innbygd funksjon kalt `type`:"
   ]
  },
  {
   "cell_type": "code",
   "execution_count": 3,
   "id": "a213212e",
   "metadata": {},
   "outputs": [
    {
     "name": "stdout",
     "output_type": "stream",
     "text": [
      "<class 'int'>\n",
      "<class 'float'>\n",
      "<class 'str'>\n",
      "<class 'list'>\n"
     ]
    }
   ],
   "source": [
    "print(type(a)) # Skriver ut resultatet av type(a)\n",
    "print(type(b)) # Skriver ut resultatet av type(b)\n",
    "print(type(min_melding)) # Skriver ut resultatet av type(min_melding)\n",
    "print(type(min_liste)) # Skriver ut resultatet av type(min_liste)"
   ]
  },
  {
   "cell_type": "markdown",
   "id": "1daf9355",
   "metadata": {},
   "source": [
    "Ikke bekymre deg over ordet \"class\" her. Datatypen er den som følger står rett etter."
   ]
  },
  {
   "cell_type": "markdown",
   "id": "dd8e2e76",
   "metadata": {},
   "source": [
    "## Algebraiske Operasjoner"
   ]
  },
  {
   "cell_type": "markdown",
   "id": "a9274a32",
   "metadata": {},
   "source": [
    "I all hovedsak ønsker vi å bruke Python til å gjøre matematikk for oss. Dette betyr at vi må vite hvordan vi uttrykker vanlige matematiske operasjoner i kodespråket vårt.\n",
    "De matematiske operasjonene representeres slik:\n",
    "- Addisjon eller pluss representeres med `+`. \n",
    "- Subtraksjon eller minus representeres med `-`.\n",
    "- Multiplikasjon aka ganging representeres med `*`.\n",
    "- Divisjon eller deling representeres med `/`. \n",
    "- Opphøye tall i en potens gjøres med `**`. \n",
    "\n",
    "Disse operasjonene kan gjøres mellom to variabler av typene `int` og `int`, `float` og `float`, eller `float` og `int`. \n",
    "\n",
    "Kanskje ingen overraskelser her. Men la oss se på et noen enkle eksempler som illustrerer bruken av dem:"
   ]
  },
  {
   "cell_type": "code",
   "execution_count": 5,
   "id": "f227aee3",
   "metadata": {},
   "outputs": [],
   "source": [
    "a = 1 \n",
    "b = 2\n",
    "\n",
    "# Du kan godt merke deg mellomrommet mellom alle symbolene.\n",
    "# De er ikke nødvendige for at Python skal skjønne hva du mener.\n",
    "# Det er foretrukket for leselighet å skrive kode med mellomrom mellom symbolene.\n",
    "# c=a+b # DO NOT DO THIS\n",
    "# c = a + b #DO THIS, VERY PRETTY. Men det påvirker ikke om du får riktig eller feil selvfølgelig\n",
    "c = a + b # Regner ut `a` pluss `b` og lagrer resultatet i variablen kalt `c`.\n",
    "d = a - b # Regner ut `a` minus `b` og lagrer resultatet i variablene kalt `d`.\n",
    "e = a * b # Regner ut `a` ganget med `b` og lagrer resultatet i variablen kalt `e`.\n",
    "f = a / b # Regner ut `a` delt med `b` og lagrer resultatet i variabelen kalt `f`.\n",
    "g = b ** 3 # Regner ut `b` opphøyd i 3, aka b^3."
   ]
  },
  {
   "cell_type": "markdown",
   "id": "d4bbd04e",
   "metadata": {},
   "source": [
    "La oss printe resultatene så vi ser at de gjør hva vi forventer:"
   ]
  },
  {
   "cell_type": "code",
   "execution_count": 6,
   "id": "935bf2f8",
   "metadata": {},
   "outputs": [
    {
     "name": "stdout",
     "output_type": "stream",
     "text": [
      "c = a + b = 3\n",
      "d = a - b = -1\n",
      "e = a * b = 2\n",
      "f = a / b = 0.5\n",
      "g = b ** 3 = 8\n"
     ]
    }
   ],
   "source": [
    "print(\"c = a + b =\", c)\n",
    "print(\"d = a - b =\", d)\n",
    "print(\"e = a * b =\", e)\n",
    "print(\"f = a / b =\", f)\n",
    "print(\"g = b ** 3 =\", g)"
   ]
  },
  {
   "cell_type": "markdown",
   "id": "e72279dc",
   "metadata": {},
   "source": [
    "I en del tilfeller ønsker vi bare å plusse på et tall på en variabel, men vi ønsker\n",
    "å unngå å definere en ny variabel for resultatet. I stedet overskriver vi verdien variabelen hadde\n",
    "med en ny.\n",
    "Tenk deg at vi har en variabel kalt `a` som har en verdi, for eksempel setter vi at `a = 2`. \n",
    "Vi kan gjøre alle de fire algebraiske regneoperasjonene med et tall `b`. La oss si at `b = 4` for eksempel.\n",
    "Tenk deg at vi nå bare ønsker å overskrive verdien til `a` ved å gjøre algebraiske operasjoner med `b`.\n",
    "Det som foregår da er at vi bruker verdien `a` har *før* man begynner til å gjøre regneoperasjon med `b`,\n",
    "og så lagrer man resultatet av regneoperasjonen i `a`. La oss se hva som skjer hvis vi gjør noen forskjellige operasjoner:"
   ]
  },
  {
   "cell_type": "code",
   "execution_count": 7,
   "id": "d039fafd",
   "metadata": {},
   "outputs": [
    {
     "name": "stdout",
     "output_type": "stream",
     "text": [
      "a = a + b resulterte i at a = 6\n",
      "a = a - b resulterte i at a = 2\n",
      "a = a * b endte med at a = 8\n",
      "a = a / b førte til at a = 2.0\n",
      "a = a ** b førte til at a = 16.0\n"
     ]
    }
   ],
   "source": [
    "# Definere variablene `a` og `b` med verdiene vi antok.\n",
    "a = 2\n",
    "b = 4\n",
    "\n",
    "# Utfører de fire regneoperasjonene og lagrer resultatet i var. \n",
    "# La oss kommentere utregningen underveis så vi forstår hva som foregår.\n",
    "\n",
    "a = a + b # Regner ut a + b og lagrer verdien som blir regnet ut med variabelnavnet a. \n",
    "# Opprinnelig så hadde vi at a = 2 og b = 4. a + b er da 6, så den nye verdien til a blir a = 6.\n",
    "print(\"a = a + b resulterte i at a =\", a)\n",
    "\n",
    "a = a - b # Regner ut a - b og lagrer verdier som blir regnet ut med variabelnavnet a.\n",
    "# b er fortsatt b = 4, men a = 6. a - b er da 6 - 4 = 2, så den nye verdien til a blir a = 2.\n",
    "print(\"a = a - b resulterte i at a =\", a)\n",
    "\n",
    "\n",
    "a = a * b # Regner ut a ganget med b og lagrer verdien som blir regnet ut i varabelnavnet a\n",
    "# a = 2 og b = 4, så a * b = 2 * 4 = 8. Den nye verdien til a blir derfor a = 8.\n",
    "print(\"a = a * b endte med at a =\", a)\n",
    "\n",
    "a = a / b # Regner ut a delt med b og lagrer verdien som blir regnet ut i variabelnavnet a.\n",
    "# Nå var a = 8 og b = 4, så a / b = 8 / 4 = 2. Derfor må a = 2 etter denne utregningen. \n",
    "print(\"a = a / b førte til at a =\", a)\n",
    "\n",
    "a = a ** b # Regner ut `a` opphøyd i `b` og lagrer verdien i `a`. \n",
    "# Før vi regnet nå, var `a = 2` og `b = 4`, så a ** b = 2 ** 4 = 16. \n",
    "# Så `a` må være lik 16 etter.\n",
    "print(\"a = a ** b førte til at a =\", a)"
   ]
  },
  {
   "cell_type": "markdown",
   "id": "5eaa31a8",
   "metadata": {},
   "source": [
    "De forskjellige operasjonene kan representeres med det vi kan kalle *shorthands* eller *forenklede skrivemåter*. Følgende shorthands gjelder:\n",
    "\n",
    "- `a += b` er det samme som `a = a + b`.\n",
    "- `a -= b` er det samme som `a = a - b`.\n",
    "- `a *= b` er det samme som `a = a * b`.\n",
    "- `a /= b` er det samme som `a = a / b`.\n",
    "- `a **= b` er det samme som `a = a ** b`.\n",
    "\n",
    "Det er et fett hvilke av disse dere bruker, men vit at de finnes som alternative skrivemåter."
   ]
  },
  {
   "cell_type": "markdown",
   "id": "0fe86c15",
   "metadata": {},
   "source": [
    "### Regnerekkefølge"
   ]
  },
  {
   "cell_type": "markdown",
   "id": "0d320b68",
   "metadata": {},
   "source": [
    "Vi vet nå hvordan matematiske operasjoner mellom tall uttrykkes, så det neste naturlige steget\n",
    "er å vite hvilken *regnerekkefølge* Python følge.\n",
    "Regnerekkefølgen skjer slik:\n",
    "\n",
    "1. Uttrykk i parenteser.\n",
    "2. Divisjon\n",
    "3. Multiplikasjon\n",
    "4. Addisjon og subtraksjon\n",
    "\n",
    "Uttrykk i parenteser følger regnerekkefølgepunktene 2 til 4.\n",
    "La oss se på et eksempel:"
   ]
  },
  {
   "cell_type": "markdown",
   "id": "5ec93df4",
   "metadata": {},
   "source": [
    "#### Eksempel 1: regnerekkefølge uten noen parenteser"
   ]
  },
  {
   "cell_type": "code",
   "execution_count": 7,
   "id": "22de4eff",
   "metadata": {},
   "outputs": [],
   "source": [
    "a = 3 * 4 / 2 * 5 + 2 - 1"
   ]
  },
  {
   "cell_type": "markdown",
   "id": "72a01fa4",
   "metadata": {},
   "source": [
    "Det er ingen parentes i uttrykket, så vi går rett til punkt 2.\n",
    "Når `a` regnes ut, regner datamaskinen først ut `4 / 2`. Deretter ganger man med `3` og `5` (irrelevant hvilken rekkefølge det skjer). Så plusser man med `2` og trekker  fra `1`.\n",
    "Altså forventer vi at resultatet blir\n",
    "`a = 3 * (4 / 2) * 5 + 2 - 1 = 3 * 2 * 5 + 2 - 1 = 30 + 2 - 1 = 31`. La oss printe ut resultatet å se:"
   ]
  },
  {
   "cell_type": "code",
   "execution_count": 8,
   "id": "4eff6454",
   "metadata": {},
   "outputs": [
    {
     "name": "stdout",
     "output_type": "stream",
     "text": [
      "a = 31.0\n",
      "a = 31.0\n",
      "a = 31.0\n"
     ]
    }
   ],
   "source": [
    "# La oss printe ut på flere forskjellige måter som alle gir samme resultat her:\n",
    "print(f\"a = {a}\") \n",
    "print(f\"{a = }\") # Alternativ måte å printe ut på hvis man har python 3.9 eller senere.\n",
    "print(\"a =\", a) # Alternativ måte å printe ut på som funker med alle versjoner av python."
   ]
  },
  {
   "cell_type": "markdown",
   "id": "80617e9d",
   "metadata": {},
   "source": [
    "#### Eksempel 2: regnerekkefølge med parentes\n",
    "La oss ta enda et eksempel der vi inkluderer en parentes også:"
   ]
  },
  {
   "cell_type": "code",
   "execution_count": 9,
   "id": "a7ba9ce2",
   "metadata": {},
   "outputs": [],
   "source": [
    "a = 3 * 12 / (3 * 4) + 2"
   ]
  },
  {
   "cell_type": "markdown",
   "id": "fc075a0c",
   "metadata": {},
   "source": [
    "Her skal vi regne ut parentesen først, og deretter utføre alle de andre operasjonene. Følger vi de slavisk, får vi\n",
    "\n",
    "1. Parentes først: `a = 3 * 12 / (3 * 4) + 2 = 3 * 12 / (12) + 2`.\n",
    "2. Divisjon next: `a = 3 * 12 / 12 + 2 = 3 * 1 + 2`.\n",
    "3. Multiplikasjon: `a = 3 * 1 + 2 = 3 + 2`. \n",
    "4. Til slutt, addisjon og subtraksjon: `a = 3 + 2 = 5`.\n",
    "\n",
    "Så vi forventer at `a = 5`. Ait, la oss sjekke om det stemmer:"
   ]
  },
  {
   "cell_type": "code",
   "execution_count": 10,
   "id": "38458f10",
   "metadata": {},
   "outputs": [
    {
     "name": "stdout",
     "output_type": "stream",
     "text": [
      "a = 5.0\n"
     ]
    }
   ],
   "source": [
    "print(f\"a = {a}\")"
   ]
  },
  {
   "cell_type": "markdown",
   "id": "25185bd5",
   "metadata": {},
   "source": [
    "Det endte med `a = 5.0` og ikke `a = 5` fordi Python på et tidspunkt har konvertert resultatet fra `int` til `float`. Det trenger vi ikke bekymre oss noe over."
   ]
  },
  {
   "cell_type": "markdown",
   "id": "e9887812",
   "metadata": {},
   "source": [
    "## Logiske operatorer"
   ]
  },
  {
   "cell_type": "markdown",
   "id": "883296e8",
   "metadata": {},
   "source": [
    "**Logiske operatorer** er hva vi kan betrakte som en operasjon der vi gjør en *sammenligning* av to variabler. \n",
    "Resultatet blir alltid en boolsk variabel, `True` eller `False`. \n",
    "La `a` og `b` være to variabler av type `int` eller `float`. Følgende logiske operatorer er viktig å kjenne til:\n",
    "\n",
    "- `>` som betyr \"større enn\". `a > b` betyr altså \"`a` er større enn `b`\".\n",
    "- `>=` som betyr \"større enn eller lik\". `a >= b` betyr dermed \"`a` er større enn eller lik `b`\".\n",
    "- `<` som betyr \"mindre enn\". `a < b` betyr altså \"`a` er mindre enn `b`\". \n",
    "- `<=` som betyr \"mindre enn eller lik. `a <= b` betyr derfor \"`a` er mindre enn eller lik `b`\".\n",
    "- `==` betyr \"er lik\". `a == b` betyr derfor \"`a` sin verdi er lik `b` sin verdi\".\n",
    "- `!=` betyr \"er ulik\". `a != b` betyr dermed `a` sin verdi er ulik `b` sin verdi. \n",
    "\n",
    "La oss se på et par eksempler og hva resultatet av det blir:"
   ]
  },
  {
   "cell_type": "code",
   "execution_count": 2,
   "id": "c7dae166",
   "metadata": {},
   "outputs": [
    {
     "name": "stdout",
     "output_type": "stream",
     "text": [
      "a < b = True\n",
      "a >= b = False\n",
      "a == b = False\n",
      "a != b = True\n"
     ]
    }
   ],
   "source": [
    "# Logiske operatorer in action\n",
    "a = 1\n",
    "b = 2\n",
    "print(\"a < b =\", a < b) # a er faktisk mindre enn b, så resultatet er True\n",
    "print(\"a >= b =\", a >= b) # a er ikke større enn eller lik b, så resultatet er False\n",
    "print(\"a == b =\", a == b) # a har ikke samme verdi som b, så resultatet er False\n",
    "print(\"a != b =\", a != b) # a har ikke samme verdi som b, så her blir resultatet True!"
   ]
  },
  {
   "cell_type": "markdown",
   "id": "876be605",
   "metadata": {},
   "source": [
    "## For- Og While løkker"
   ]
  },
  {
   "cell_type": "markdown",
   "id": "cd063ccd",
   "metadata": {},
   "source": [
    "I programmering er **løkker** en måte å formulere en operasjon som skal gjøres gjentatte ganger. \n",
    "For å gjøre det enklere å snakke om det, skal vi introdusere et nytt ord. En **algoritme**\n",
    "er en samling regneoperasjoner gjort i spesifikk rekkefølge. \n",
    "Et eksempel på en algoritme dere kjenner til er \n",
    "*polynomdivisjon*. Vi kunne i prinsippe programmert en kode som gjør dette mellom to polynomer. Det hadde vi gjort ved å formulere det som en sekvens av matematiske operasjoner kodet inn i Python.\n",
    "\n",
    "\n",
    "Generelt kan vi dele disse inn i to kategorier:\n",
    "\n",
    "1. `for` løkker der man har forhåndsbestemt hvor mange ganger man skal utføre en algoritme.\n",
    "2. `while` løkker der man utfører en algoritme frem til en **betingelse** er brutt.\n",
    "\n",
    "Vi skal se på de to typene hver for seg i detalj. Jeg kommer til å bruke ordene **loops** og **løkke** litt om hverandre. De betyr akkurat det samme :-)\n"
   ]
  },
  {
   "cell_type": "markdown",
   "id": "2a32cc15",
   "metadata": {},
   "source": [
    "## `for` løkker (aka `for` loops)"
   ]
  },
  {
   "cell_type": "markdown",
   "id": "4b41af74",
   "metadata": {},
   "source": [
    "Vi må se på følgende `for` løkker:\n",
    "\n",
    "1. `for` løkke som løper over en heltalls variabel.\n",
    "2. `for` løkke som løper over elementer i en liste.\n",
    "3. Nøstede `for` løkker. Dette er `for` løkker inne i andre `for` løkker.\n",
    "\n",
    "La oss se på det første tilfellet."
   ]
  },
  {
   "cell_type": "markdown",
   "id": "5dcdb617",
   "metadata": {},
   "source": [
    "### `for` løkke over en heltalls variabel"
   ]
  },
  {
   "cell_type": "markdown",
   "id": "7a4bf3e1",
   "metadata": {},
   "source": [
    "Den generiske *syntaksen* for en `for` løkke av denne typen er \n",
    "\n",
    "```python\n",
    "for i in range(start, stop, step):\n",
    "    # Gjør noe kode greier her \n",
    "```\n",
    "\n",
    "Hvis vi tar oss litt tid til å snakke om hva denne lille kodesnutten gjør, \n",
    "kan vi forstå generelt hvordan vi skal lese og skrive denne type `for` løkke.\n",
    "Merk deg følgende:\n",
    "\n",
    "1. Når `for` løkken starter, lager Python **loop variabelen** `i` for oss automatisk.\n",
    "2. Funksjonen `range` tar bare heltall, slik at `start`, `stop` og `step` må være heltall, aka variabler av typen `int`.\n",
    "\n",
    "Løper man gjennom `for` løkken, vil man se at verdien til `i` vil være som følger:\n",
    "- Første iterasjon: `i = start`\n",
    "- Andre iterasjon: `i = start + step`\n",
    "- Tredje iterasjon: `i = start + 2 * step`\n",
    "\n",
    "og så videre. `for` løkken holder på så lenge `i` ikke har passert `stop` sin verdi. \n",
    "Den siste verdien `i` kan få er den siste verdien før den ble lik eller passerte `stop`.\n",
    "\n",
    "\n",
    "La oss se på et par konkret eksempler:"
   ]
  },
  {
   "cell_type": "code",
   "execution_count": 9,
   "id": "31931f61",
   "metadata": {},
   "outputs": [
    {
     "name": "stdout",
     "output_type": "stream",
     "text": [
      "i = 0\n",
      "i = 2\n",
      "i = 4\n"
     ]
    }
   ],
   "source": [
    "# For loop fra 0 til 4 som tar 2 steg av gangen:\n",
    "for i in range(0, 5, 2):\n",
    "    print(\"i =\", i)"
   ]
  },
  {
   "cell_type": "code",
   "execution_count": 10,
   "id": "a8a24575",
   "metadata": {},
   "outputs": [
    {
     "name": "stdout",
     "output_type": "stream",
     "text": [
      "j =  5\n",
      "j =  4\n",
      "j =  3\n",
      "j =  2\n",
      "j =  1\n"
     ]
    }
   ],
   "source": [
    "# For loop fra 5 til 1 som tar et steg nedover i verdi av gangen:\n",
    "# I tilfellet der start er større enn slutt og vi går nedover,\n",
    "# Dette fortsetter til den siste verdien `j` har som ligger før `stop = 0`, som er `j = 1`.\n",
    "for j in range(5, 0, -1):\n",
    "    print(\"j = \", j)"
   ]
  },
  {
   "cell_type": "code",
   "execution_count": 13,
   "id": "a253ff16",
   "metadata": {},
   "outputs": [
    {
     "name": "stdout",
     "output_type": "stream",
     "text": [
      "l = 1\n",
      "l = 4\n"
     ]
    }
   ],
   "source": [
    "# Her starter vi med l = 1, også legger vi til 3 til l helt til den siste verdien som ligger før stop = 7.\n",
    "for l in range(1, 7, 3):\n",
    "    print(f\"l = {l}\")"
   ]
  },
  {
   "cell_type": "markdown",
   "id": "21c945f7",
   "metadata": {},
   "source": [
    "Funksjonen `range` har noen **default** verdier for `start` og `step`. Det vil si at disse har fastesatte verdier hvis du ikke spesifiserer de selv. Disse er\n",
    "satt til `start = 0` og `step = 1`, slik at hvis vi skriver `for k in range(5)`,\n",
    "vil loopen starte med `k = 0` og gå ett og ett steg opp til og med `5 - 1 = 4`. \n",
    "Så effektivt har vi en generell alternativ måte å skrive `for` loop over heltall på:\n",
    "\n",
    "```python \n",
    "for i in range(stop):\n",
    "    # Noe kode\n",
    "```\n",
    "der vi må huske på at `start = 0` og `step = 1` by default.\n",
    "\n",
    "Noen flere eksempler:"
   ]
  },
  {
   "cell_type": "code",
   "execution_count": 14,
   "id": "a8f296c4",
   "metadata": {},
   "outputs": [
    {
     "name": "stdout",
     "output_type": "stream",
     "text": [
      "k =  0\n",
      "k =  1\n",
      "k =  2\n",
      "k =  3\n",
      "k =  4\n"
     ]
    }
   ],
   "source": [
    "for k in range(5):\n",
    "    print(\"k = \", k)"
   ]
  },
  {
   "cell_type": "markdown",
   "id": "8f2f8875",
   "metadata": {},
   "source": [
    "### `for` løkker over elementer i en liste"
   ]
  },
  {
   "cell_type": "markdown",
   "id": "b433ee36",
   "metadata": {},
   "source": [
    "`for` løkker over elementer i en liste er en del enklere å forstå. \n",
    "Den generelle strukturen er\n",
    "\n",
    "```python\n",
    "for element in en_liste:\n",
    "    #Gjør noe med element her\n",
    "```\n",
    "\n",
    "La oss bruke listen vi snakket om\n",
    "når vi introduserte variabler og datatyper:"
   ]
  },
  {
   "cell_type": "code",
   "execution_count": 15,
   "id": "79ea304a",
   "metadata": {},
   "outputs": [],
   "source": [
    "a = 2 # int\n",
    "b = 2.0 # float\n",
    "min_melding = \"Eksempel på en hvordan en variabel som lagrer tekst\" # str\n",
    "min_liste = [a, b, min_melding] # list med elementer av typene [int, float, str]."
   ]
  },
  {
   "cell_type": "code",
   "execution_count": 16,
   "id": "a6f41f70",
   "metadata": {},
   "outputs": [
    {
     "name": "stdout",
     "output_type": "stream",
     "text": [
      "element =  2\n",
      "element =  2.0\n",
      "element =  Eksempel på en hvordan en variabel som lagrer tekst\n"
     ]
    }
   ],
   "source": [
    "for element in min_liste:\n",
    "    print(\"element = \", element)"
   ]
  },
  {
   "cell_type": "markdown",
   "id": "fbe9b5ed",
   "metadata": {},
   "source": [
    "Merk at det spiller ingen rolle hva vi kaller elementet i listen. Vi kunne for eksempel kalt \n",
    "variaben for `x` i stedet:"
   ]
  },
  {
   "cell_type": "code",
   "execution_count": 17,
   "id": "32678450",
   "metadata": {},
   "outputs": [
    {
     "name": "stdout",
     "output_type": "stream",
     "text": [
      "liste element =  2\n",
      "liste element =  2.0\n",
      "liste element =  Eksempel på en hvordan en variabel som lagrer tekst\n"
     ]
    }
   ],
   "source": [
    "for x in min_liste:\n",
    "    print(\"liste element = \", x)"
   ]
  },
  {
   "cell_type": "markdown",
   "id": "746a6797",
   "metadata": {},
   "source": [
    "### Nøstede `for` løkker"
   ]
  },
  {
   "cell_type": "markdown",
   "id": "80e79c2f",
   "metadata": {},
   "source": [
    "Nøstede `for` løkker er flere `for` nøstet sammen. Med det mener man\n",
    "at en `for` løkke er plassert inn i en annen `for` løkke. Dette kan gjøres mer enn en gang. \n",
    "Vi skal bare ta for oss dette over heltallsvariabler med `range` funksjonen.\n",
    "\n",
    "Generelt sett, kan man skrive disse som\n",
    "\n",
    "```python\n",
    "for i in range(stop1):\n",
    "    # Kanskje noe kode her\n",
    "    for j in range(stop2):\n",
    "        # Muligens noe kode her også\n",
    "        for k in range(stop3):\n",
    "            # Noe kode her, eller kanskje en ny for loop osv ....\n",
    "```\n",
    "\n",
    "der `stop1`, `stop2` og `stop3` er noen positive heltall. Eller vi kan bruke den andre versjonen av `range` der\n",
    "vi spesifiserer `start` og `step` også:\n",
    "\n",
    "```python\n",
    "for i in range(start1, stop1, step1):\n",
    "    # Kanskje noe kode her\n",
    "    for j in range(start2, stop2, step2):\n",
    "        # Muligens noe kode her også\n",
    "        for k in range(start3, stop3, step3):\n",
    "            # Noe kode her, eller kanskje en ny for loop osv ....\n",
    "```"
   ]
  },
  {
   "cell_type": "markdown",
   "id": "addbb74b",
   "metadata": {},
   "source": [
    "La oss starte med et eksempel som forklarer vi som foregår i en slik `for` løkke.\n",
    "La oss se på\n",
    "```python\n",
    "for i in range(2):\n",
    "    for j in range(2):\n",
    "        print(f\"i = {i} ; j = {j}\")\n",
    "```\n",
    "Denne loopen sier at vi skal utføre \n",
    "\n",
    "```python\n",
    "for j in range(2):\n",
    "    print(f\"i = {i} ; j = {j}\")\n",
    "```\n",
    "to ganger. Først med `i = 0` og så med `i = 1`. \n",
    "\n",
    "La oss forklare hva som foregår i denne loopen stegvis.\n",
    "Når datamaskinen leser koden vår, starter den på den *ytre* loopen over `i`.\n",
    "Deretter går den inn i den *indre* loopen over `j` og fullfører den, før den oppdaterer `i`. \n",
    "Litt mer konkret:\n",
    "\n",
    "- Først settes `i = 0`.\n",
    "- Deretter starter loopen over `j`. `i` holdes konstant mens vi looper over alle verdiene til `j`, som blir `j = 0` og `j = 1`.\n",
    "- Når loopen over `j` er fullført, går vi tilbake til den ytre loopen over `i` og oppdaterer den. Vi får da `i = 1`. \n",
    "- Igjen går vi inn i den indre loopen og looper over alle verdiene til `j` mens `i` holdes konstant. \n",
    "- Begge looper stopper etter at både `i = 1` og `j = 1`, så dette ble siste iterasjon. \n",
    "\n",
    "Oppsummert forventer vi at dette blir printet:\n",
    "```\n",
    "i = 0 ; j = 0\n",
    "i = 0 ; j = 1\n",
    "i = 1 ; j = 0\n",
    "i = 1 ; j = 1\n",
    "```\n",
    "som vi kan bekrefte:"
   ]
  },
  {
   "cell_type": "code",
   "execution_count": 18,
   "id": "e6e5fb4d",
   "metadata": {},
   "outputs": [
    {
     "name": "stdout",
     "output_type": "stream",
     "text": [
      "i = 0 ; j = 0\n",
      "i = 0 ; j = 1\n",
      "i = 1 ; j = 0\n",
      "i = 1 ; j = 1\n"
     ]
    }
   ],
   "source": [
    "for i in range(2):\n",
    "    for j in range(2):\n",
    "        print(f\"i = {i} ; j = {j}\")"
   ]
  },
  {
   "cell_type": "markdown",
   "id": "d354b39d",
   "metadata": {},
   "source": [
    "La oss ta et eksempel til med 3 nøstede for løkker:\n",
    "\n",
    "```python\n",
    "for i in range(2):\n",
    "    for j in range(2):\n",
    "        for k in range(3):\n",
    "            print(f\"i = {i} ; j = {j} ; k = {k}\")\n",
    "```\n",
    "\n",
    "Forløpet av denne blir som følger:\n",
    "\n",
    "1. Start `for` loop over `i`. Sett `i = 0`\n",
    "    1. Start `for` loop over `j`. Sett `j = 0`.\n",
    "        1. Start `for` loop over `k`. Sett `k = 0`.\n",
    "        2. Øk verdien til `k` med `1` slik at `k = 1`.\n",
    "        3. Øk verdien til `k` med `1` slik at `k = 2`. \n",
    "        4. `for` loopen over `k` er fullført fordi `stop = 3` i dens `for` loop.\n",
    "    2. Øk verdien til `j` med `1`. Altså blir `j = 1`. Dette er den siste verdien til `j` siden den loopen har `stop = 2`.\n",
    "        1. Gjenta alle stegene med `for` loopen over `k`.\n",
    "2. Øk `i` med `1` slik at `i = 1`. Gjenta så loopen over `j` og `k` som over.\n",
    "\n",
    "\n",
    "Det er ikke pent, men konseptuelt er ideen enkel. Vi utfører de indre `for` loopene og jobber oss utover.\n",
    "Dette repeteres til vi er ferdig med alle de ytre loopene. La oss printe ut resultatet hvis som kommer av\n",
    "denne nøstede `for` loopen: "
   ]
  },
  {
   "cell_type": "code",
   "execution_count": 19,
   "id": "30ef5284",
   "metadata": {},
   "outputs": [
    {
     "name": "stdout",
     "output_type": "stream",
     "text": [
      "i = 0 ; j = 0 ; k = 0\n",
      "i = 0 ; j = 0 ; k = 1\n",
      "i = 0 ; j = 0 ; k = 2\n",
      "i = 0 ; j = 1 ; k = 0\n",
      "i = 0 ; j = 1 ; k = 1\n",
      "i = 0 ; j = 1 ; k = 2\n",
      "i = 1 ; j = 0 ; k = 0\n",
      "i = 1 ; j = 0 ; k = 1\n",
      "i = 1 ; j = 0 ; k = 2\n",
      "i = 1 ; j = 1 ; k = 0\n",
      "i = 1 ; j = 1 ; k = 1\n",
      "i = 1 ; j = 1 ; k = 2\n"
     ]
    }
   ],
   "source": [
    "for i in range(2):\n",
    "    for j in range(2):\n",
    "        for k in range(3):\n",
    "            print(f\"i = {i} ; j = {j} ; k = {k}\")"
   ]
  },
  {
   "cell_type": "markdown",
   "id": "e001870a",
   "metadata": {},
   "source": [
    "### `for` løkke eksempler"
   ]
  },
  {
   "cell_type": "markdown",
   "id": "ca3fb787",
   "metadata": {},
   "source": [
    "Hittil har vi bare printet ut variabler man *looper* over i `for` løkken. Det er på tide at vi ser på et par eksempler der vi gjør noe matte."
   ]
  },
  {
   "cell_type": "markdown",
   "id": "87eb24e1",
   "metadata": {},
   "source": [
    "### `for` løkke eksempel 1: summen av de 100 første heltallene"
   ]
  },
  {
   "cell_type": "markdown",
   "id": "a09bbe75",
   "metadata": {},
   "source": [
    "Det finnes en historie om en kjent matematiker kalt Gauss som fikk i oppgave av læreren sin å regne\n",
    "ut summen av alle heltallene fra 1 til 100 for hånd. Det er jo ganske kjedelig i seg selv, men med Python kan\n",
    "vi gjøre det på et blunk. Det matematiske problemet vi ønsker å løse er\n",
    "\n",
    "$$\n",
    "s = 1 + 2 + 3 + \\cdots + 99 + 100.\n",
    "$$\n",
    "\n",
    "Men vi kan være mer generelle og bare tenke oss at vi skal regne ut summen av alle heltall fra 1 til $n$ for et eller annet positivt heltall $n$. Altså ønsker vi regne ut\n",
    "\n",
    "$$\n",
    "s = 1 + 2 + 3 + \\cdots + (n - 1) + n\n",
    "$$\n",
    "\n",
    "Vi vet om en funksjon som genererer heltall på den måten for oss, nemlig `range`.\n",
    "En løsning for å få alle disse heltallene er å bruke \n",
    "\n",
    "```python\n",
    "for i in range(1, n + 1, 1):\n",
    "    # Løsningen vår here\n",
    "```\n",
    "\n",
    "Da starter loopen med `i = 1` og tar et og et steg frem til `i = n`. Siden\n",
    "steglengden *by default* er satt lik 1, kan vi droppe å skrive den og i stedet bruke `range(1, n + 1)`.\n",
    "\n",
    "For å summe opp alle heltallene, må vi introdusere en variabel `s` som vi må sette `s = 0` før loopen.\n",
    "(Grunnen til at vi setter den lik 0 er fordi å plusse på 0 på et tall ikke gjør noen forskjell. Så hvis vi\n",
    "vil ha den ekte summen, kan starte med en variabel som er lik 0 og plusse på alle tallene vi vil summe opp).\n",
    "Deretter, inne i for loopen, plusser vi `i` med `s` og lagrer resultatet i `s`. Det er to alternativer for dette:\n",
    "- `s = s + i`\n",
    "- `s += i`\n",
    "\n",
    "Begge to gir samme resultat. La oss prøve med begge varianter:"
   ]
  },
  {
   "cell_type": "code",
   "execution_count": 18,
   "id": "c088654a",
   "metadata": {},
   "outputs": [
    {
     "name": "stdout",
     "output_type": "stream",
     "text": [
      "Summen av de 100 første heltallene er =  5050\n"
     ]
    }
   ],
   "source": [
    "# Løsning 1\n",
    "\n",
    "s = 0 # Definere variabelen s til være 0 til å begynne med\n",
    "n = 100 # Vi ønsket å regne ut heltallene fra 1 til 100 så vi setter n = 100\n",
    "for i in range(1, n + 1):\n",
    "    s = s + i\n",
    "print(\"Summen av de 100 første heltallene er = \", s)"
   ]
  },
  {
   "cell_type": "code",
   "execution_count": 19,
   "id": "b6e4d962",
   "metadata": {},
   "outputs": [
    {
     "name": "stdout",
     "output_type": "stream",
     "text": [
      "Summen av de 100 første heltallene er =  5050\n"
     ]
    }
   ],
   "source": [
    "# Løsning 2\n",
    "\n",
    "s = 0 # Definere variabelen s til være 0 til å begynne med\n",
    "n = 100 # Vi ønsket å regne ut heltallene fra 1 til 100 så vi setter n = 100\n",
    "for j in range(1, n + 1):\n",
    "    s += j # Jeg bruker `j` her bare for å illustrere at det ikke er farlig hva loop variabelen er kalt\n",
    "print(\"Summen av de 100 første heltallene er = \", s)\n"
   ]
  },
  {
   "cell_type": "markdown",
   "id": "5c1fd9ec",
   "metadata": {},
   "source": [
    "Det matematiske problemet vårt har som generell løsning:\n",
    "$$\n",
    "s = \\frac{n(n+1)}{2}.\n",
    "$$\n",
    "\n",
    "Setter vi inn $n = 100$ får vi $s = 5050$, så koden vår gjør det den skal."
   ]
  },
  {
   "cell_type": "markdown",
   "id": "02cc7cb2",
   "metadata": {},
   "source": [
    "### `for` loop eksempel 2: Regne ut $n!$ (leses $n$-fakultet)"
   ]
  },
  {
   "cell_type": "markdown",
   "id": "02cb3776",
   "metadata": {},
   "source": [
    "Å regne ut $n!$ innebærer å regne ut:\n",
    "\n",
    "$$\n",
    "n! = 1 \\cdot 2 \\cdot 3 \\cdot \\ldots \\cdot (n-1) \\cdot n.\n",
    "$$\n",
    "\n",
    "Eksempelvis er $5! = 1\\cdot 2 \\cdot 3 \\cdot 4 \\cdot 5 = 120$.\n",
    "\n",
    "Vi kan utføre denne regneoperasjonen med en `for` loop i Python.\n",
    "Det naturlige steget er å ha en `for` loop over alle heltallene fra 1 opp til og med $n$.\n",
    "Så vi trenger en `for` loop av typen:\n",
    "\n",
    "```python\n",
    "for i in range(1, n + 1):\n",
    "    # Utregninger her\n",
    "```\n",
    "\n",
    "Men vi er jo nødt til å formulere en algoritme også. Det naturlige er å lage oss en variabel som\n",
    "skal lagre resultatet, la oss kalle den for `n_fakultet`. I motsetning til når vi regnet ut en sum,\n",
    "der vi satt `s = 0` opprinnelig for å ikke påvirke verdien av summen, må vi sette `n_fakultet = 1` til å\n",
    "begynne med fordi å gange et tall med 1 bare blir tallet selv. Så da påvirker vi ikke resultatet av produktet.\n",
    "Med andre ord kan vi løse det slik:"
   ]
  },
  {
   "cell_type": "code",
   "execution_count": 22,
   "id": "4c261b3d",
   "metadata": {},
   "outputs": [
    {
     "name": "stdout",
     "output_type": "stream",
     "text": [
      "n! = 120\n"
     ]
    }
   ],
   "source": [
    "# Løsning 1\n",
    "n = 5\n",
    "n_fakultet = 1\n",
    "for i in range(1, n + 1):\n",
    "    n_fakultet = n_fakultet * i\n",
    "    \n",
    "print(f\"n! = {n_fakultet}\")"
   ]
  },
  {
   "cell_type": "code",
   "execution_count": 23,
   "id": "dad34b18",
   "metadata": {},
   "outputs": [
    {
     "name": "stdout",
     "output_type": "stream",
     "text": [
      "n! = 120\n"
     ]
    }
   ],
   "source": [
    "# Løsning 2 med alternativ måte å skrive gangeoperasjonen på:\n",
    "n = 5\n",
    "n_fakultet = 1\n",
    "for i in range(1, n + 1):\n",
    "    n_fakultet *= i\n",
    "    \n",
    "print(f\"n! = {n_fakultet}\")"
   ]
  },
  {
   "cell_type": "markdown",
   "id": "516e529c",
   "metadata": {},
   "source": [
    "## `while` løkker (aka `while` loops)"
   ]
  },
  {
   "cell_type": "markdown",
   "id": "f265fbb0",
   "metadata": {},
   "source": [
    "`while` løkker gjentar en kodeblokk frem til et betingelse er brutt.\n",
    "\n",
    "Den generelle syntaksen er:\n",
    "\n",
    "```python\n",
    "while betingelse:\n",
    "    # Utfør noen operasjoner\n",
    "```\n",
    "\n",
    "En betingelse i python evalueres til `True` eller `False`. Så lenge den blir `True`, vil `while` loopen\n",
    "kjøre. Med en gang den blir `False` stopper `while loopen`. Eksempler på betingelser:"
   ]
  },
  {
   "cell_type": "code",
   "execution_count": 24,
   "id": "fd7147fa",
   "metadata": {},
   "outputs": [],
   "source": [
    "a = 1\n",
    "b = 2\n",
    "betingelse1 = (a > b) # `>` betyr `større enn`. a er ikke større enn b, så dette blir False\n",
    "betingelse2 = (a == b)  # `==` betyr `er lik`. a er ikke eksakt lik b, så dette blir False\n",
    "betingelse3 = (a != b) # `!=` betyr `er ulik`. a er ulik b, så dette blir True\n",
    "betingelse4 = (a <= b ) # `<=` betyr `mindre enn eller lik`. a er mindre enn eller lik b, så dette blir True"
   ]
  },
  {
   "cell_type": "markdown",
   "id": "28b8a81b",
   "metadata": {},
   "source": [
    "La oss gjøre en *sanity check* og se at det ble som forventet:"
   ]
  },
  {
   "cell_type": "code",
   "execution_count": 25,
   "id": "c37f5b98",
   "metadata": {},
   "outputs": [
    {
     "name": "stdout",
     "output_type": "stream",
     "text": [
      "(a > b) = False\n",
      "(a == b) = False\n",
      "(a != b) = True\n",
      "(a <= b) = True\n"
     ]
    }
   ],
   "source": [
    "print(\"(a > b) =\", betingelse1)\n",
    "print(\"(a == b) =\", betingelse2)\n",
    "print(\"(a != b) =\", betingelse3)\n",
    "print(\"(a <= b) =\", betingelse4)"
   ]
  },
  {
   "cell_type": "markdown",
   "id": "8c065b1a",
   "metadata": {},
   "source": [
    "La oss lage en `while` loop som gjør det samme som\n",
    "\n",
    "```python\n",
    "for i in range(5):\n",
    "    print(\"i = \", i)\n",
    "```\n",
    "\n",
    "Forskjellen fra en `for` loop er at vi må lage variabelen `i` selv. \n",
    "Før vi starter `while` loopen, må vi i såfall sette `i = 0`. \n",
    "Deretter må vi plusse på `1` til `i` for hver iterasjon frem til vi når `i = 4`. \n",
    "Når `i = 4` ønsker vi at `while` loopen skal stoppe. Hvis vi setter vår betingelse\n",
    "til å være `betingelse = (i <= 4)`, vil vi oppnå dette:"
   ]
  },
  {
   "cell_type": "code",
   "execution_count": 26,
   "id": "a3f5b0c0",
   "metadata": {},
   "outputs": [
    {
     "name": "stdout",
     "output_type": "stream",
     "text": [
      "i =  0\n",
      "i =  1\n",
      "i =  2\n",
      "i =  3\n",
      "i =  4\n"
     ]
    }
   ],
   "source": [
    "i = 0 # Vi definerer `i` selv og setter den lik 0\n",
    "# Legg merke til at det ikke er nødvendig med en parentes rundt betingelsen \n",
    "# Vi kan skrive `i <= 4` i stedet for (i <= 4).\n",
    "while i <= 4:\n",
    "    print(\"i = \", i)\n",
    "    i = i + 1"
   ]
  },
  {
   "cell_type": "markdown",
   "id": "4b43703c",
   "metadata": {},
   "source": [
    "### `while` loop eksempler"
   ]
  },
  {
   "cell_type": "markdown",
   "id": "0eb27820",
   "metadata": {},
   "source": [
    "Det er på tide at vi ser på noen eksempeler på bruk av `while` løkker."
   ]
  },
  {
   "cell_type": "markdown",
   "id": "2b8c0fee",
   "metadata": {},
   "source": [
    "### `while` loop eksempel 1: Regne ut summen av de $n$ første heltallene, igjen"
   ]
  },
  {
   "cell_type": "markdown",
   "id": "c98bfbfe",
   "metadata": {},
   "source": [
    "La oss repetere eksempel vi hadde i stad. Vi ønsker å regne ut $n$ første heltallene:\n",
    "\n",
    "$$\n",
    "s = 1 + 2 + 3 + \\cdots + (n-1) + n.\n",
    "$$\n",
    "\n",
    "I `while` loopen må vi selv sette opp betingelsen som må være oppfylt så lenge loopen kjører.\n",
    "La oss innføre en loop variabel `i` som representerer hvilket ledd i summen vi er på,\n",
    "som i dette tilfellet også betyr hvilket tall vi skal plusse på. La `n` være siste tallet vi skal legge til.\n",
    "La `s` være variabelen som skal lagre summen av alle tallene. Betingelsen vi må sette er at `i <= n` (aka vi kjører loopen så lenge `i` er mindre enn eller lik `n`),\n",
    "også må vi gradvis øke `i` med en manuelt. \n",
    "Med andre ord bør koden se slik ut:"
   ]
  },
  {
   "cell_type": "code",
   "execution_count": 27,
   "id": "5bc217a5",
   "metadata": {},
   "outputs": [
    {
     "name": "stdout",
     "output_type": "stream",
     "text": [
      "s = 5050\n"
     ]
    }
   ],
   "source": [
    "# Løsning 1\n",
    "\n",
    "s = 0 # Vi må starte med 0 når vi skal regne ut en sum\n",
    "i = 1 # Det første tallet vi skal legge til er 1, så vi kan starte med det.\n",
    "n = 100 # Problemstillingen vår var at vi skulle regne ut summen av de 100 første heltallene\n",
    "\n",
    "\n",
    "while i <= n:\n",
    "    s = s + i # Pluss sammen `s` og `i` og lagre resultatet i `s`.\n",
    "    i = i + 1 # Øk `i` med 1. Aka pluss `i` og `1` og lagre resultatet i variabelen `i`.\n",
    "print(f\"s = {s}\")"
   ]
  },
  {
   "cell_type": "code",
   "execution_count": 28,
   "id": "6e02ed86",
   "metadata": {},
   "outputs": [
    {
     "name": "stdout",
     "output_type": "stream",
     "text": [
      "s = 5050\n"
     ]
    }
   ],
   "source": [
    "# Løsning 2 der vi bruker `+=` skrivemåten i stedet.\n",
    "\n",
    "s = 0 # Vi må starte med 0 når vi skal regne ut en sum\n",
    "i = 1 # Det første tallet vi skal legge til er 1, så vi kan starte med det.\n",
    "n = 100 # Problemstillingen vår var at vi skulle regne ut summen av de 100 første heltallene\n",
    "\n",
    "\n",
    "while i <= n:\n",
    "    s += i # Pluss sammen `s` og `i` og lagre resultatet i `s`.\n",
    "    i += 1 # Øk `i` med 1. Aka pluss `i` og `1` og lagre resultatet i variabelen `i`.\n",
    "print(f\"s = {s}\")"
   ]
  },
  {
   "cell_type": "markdown",
   "id": "643143f7",
   "metadata": {},
   "source": [
    "### `while` loop eksempel 2: Regne ut $n!$ igjen"
   ]
  },
  {
   "cell_type": "markdown",
   "id": "f08384e8",
   "metadata": {},
   "source": [
    "For å regne ut $n!$ med en `while` loop må vi lage loop variabelen selv og lage oss en betingelse. \n",
    "Hvis vi velger `i` til å være loop variabelen vår, blir betingelsen som må oppfylles at `i <= n`. \n",
    "Løsningen kan da skrives som:"
   ]
  },
  {
   "cell_type": "code",
   "execution_count": 29,
   "id": "0ed39a48",
   "metadata": {},
   "outputs": [
    {
     "name": "stdout",
     "output_type": "stream",
     "text": [
      "n! = 120\n"
     ]
    }
   ],
   "source": [
    "# Løsningsforslag 1\n",
    "n = 5\n",
    "i = 1\n",
    "n_fakultet = 1\n",
    "while i <= n:\n",
    "    n_fakultet = n_fakultet * i\n",
    "    i = i + 1\n",
    "    \n",
    "print(f\"n! = {n_fakultet}\")"
   ]
  },
  {
   "cell_type": "code",
   "execution_count": 30,
   "id": "4282e58f",
   "metadata": {},
   "outputs": [
    {
     "name": "stdout",
     "output_type": "stream",
     "text": [
      "n! = 120\n"
     ]
    }
   ],
   "source": [
    "# Løsningsforslag 2 med alterantiv skrivemåte for matteoperasjoner\n",
    "n = 5 \n",
    "i = 1 \n",
    "n_fakultet = 1\n",
    "while i <= n:\n",
    "    n_fakultet *= i # Alternativ til n_fakultet = n_fakultet * i\n",
    "    i += 1 # Alternativ til i = i + 1.\n",
    "    \n",
    "print(f\"n! = {n_fakultet}\")"
   ]
  },
  {
   "cell_type": "markdown",
   "id": "5ad5f0a5",
   "metadata": {},
   "source": [
    "# If-else blokker"
   ]
  },
  {
   "cell_type": "markdown",
   "id": "a24ebd42",
   "metadata": {},
   "source": [
    "`if`-`else` blokker er måter å skrive kodeblokker som skal utføres kun hvis en bestemt betingelse er oppfylt.\n",
    "\n",
    "Den generiske strukturen på en slik blokk er \n",
    "```python\n",
    "if betingelse:\n",
    "    # Gjør noe kode greier hvis `betingelse` er True\n",
    "else:\n",
    "    # Gjør noe annet dersom `betingelse` er False.\n",
    "```\n",
    "\n",
    "Hvis det finnes flere forskjellige betingelser, har man en `elif` *operator* som gjør at vi kan bryte opp koden i enda flere kodeblokker:\n",
    "\n",
    "```python\n",
    "if betingelse1:\n",
    "    # Kjør denne kodeblokken hvis `betingelse1` er True\n",
    "elif betingelse2:\n",
    "    # Kjør denne kodeblokken hvis `betingelse2` er True\n",
    "elif betingelse3:\n",
    "    # Kjør denne kodeblokken hvis `betingelse3` er True\n",
    "else:\n",
    "    # Kjør denne kodeblokken hvis `betingelse1`, `betingelse2` og `betingelse3` alle er False.\n",
    "```\n",
    "\n",
    "Du kan i prinsippet ha så mange slik du vil. For vår del blir det nok ikke aktuelt med spesielt mange av dem\n"
   ]
  },
  {
   "cell_type": "markdown",
   "id": "90d14efa",
   "metadata": {},
   "source": [
    "### `if`-`else` eksempler\n",
    "\n",
    "La oss se på noen eksempler der vi trenger `if`-`else` blokker."
   ]
  },
  {
   "cell_type": "markdown",
   "id": "ae87d194",
   "metadata": {},
   "source": [
    "### `if`-`else` eksempel 1: "
   ]
  },
  {
   "cell_type": "code",
   "execution_count": 31,
   "id": "d5cf1284",
   "metadata": {},
   "outputs": [
    {
     "name": "stdout",
     "output_type": "stream",
     "text": [
      "a er ulik b\n"
     ]
    }
   ],
   "source": [
    "a = 1\n",
    "b = 2\n",
    "\n",
    "if a == b:\n",
    "    print(\"a er lik b\") # Dette er ikke sant, så vil ikke kjøre denne kodeblokken\n",
    "else:\n",
    "    print(\"a er ulik b\") # a er ulik b, så denne vil kjøre"
   ]
  },
  {
   "cell_type": "markdown",
   "id": "9a86faa2",
   "metadata": {},
   "source": [
    "Dette eksempelet er selvfølgelig tåpelig. Hvorfor i all verden skal vi skrive en `if`-`else` blokk når vi allerede vet at `a` er ulik `b`. Det eneste poenget her er at du skal forstå hvordan en enkel betingelse ser ut. Jeg skal gi noen bedre eksempler etter vi har sett på funksjoner, som er det neste tema. Der er der mer naturlig å bruke `if`-tester fordi ting kan variere."
   ]
  },
  {
   "cell_type": "markdown",
   "id": "9e167e99",
   "metadata": {},
   "source": [
    "## Funksjoner"
   ]
  },
  {
   "cell_type": "markdown",
   "id": "bad778c7",
   "metadata": {},
   "source": [
    "Hittil har vi skrevet kode på en måte som man egentlig ikke gjør i Python.\n",
    "Koden vår regner jo bare ut en spesifikk problemstilling fordi vi har satt inn faste verdier.\n",
    "\n",
    "- Eksempelet vi så på med å regne ut summen av de 100 første heltallene regner jo bare ut akkurat det. Vi har teknisk sett utviklet koden slik at den funker med en vilkårlig verdi for `n` slik at vi får summen av `n` første heltallene. Så vi kan manuelt gå inn å endre verdien til `n` slik at vi for regnet ut den samme summen for en annen verdi av `n`. \n",
    "- Eksempelet med å regne ut $n!$ kan også funke med en tilfeldig ferdig for `n`, men vi har likevel kodet med en spesifikk verdi, nemlig `n = 5`. \n",
    " \n",
    "Python har en naturlig måte å gjøre koden gjenbrukbar på ved å la oss skrive koden slik at\n",
    "vi har noen variabler som kan variere fra gang til gang. Dette kalles **funksjoner** i Python\n",
    "og kan minne om funksjoner i matematikk. "
   ]
  },
  {
   "cell_type": "markdown",
   "id": "bc61f41f",
   "metadata": {},
   "source": [
    "### Generell syntax for en funksjon:\n",
    "\n",
    "```python\n",
    "def funksjons_navn(argumenter_separert_med_komma):\n",
    "    #Noe kode her som regner ut noe som lagres i `resultat`. \n",
    "    return resultat\n",
    "```\n",
    "\n",
    "En funksjon tar inn variabler som vi kaller for **argumenter**. Funksjonen bruker disse argumentene\n",
    "til å regne ut noe og **returnerer** et resultat. La oss se på noen eksempler for å få en idé om hvordan de funker:"
   ]
  },
  {
   "cell_type": "markdown",
   "id": "8ee0529e",
   "metadata": {},
   "source": [
    "### Eksempel 1: Regne ut funksjonen $f(x) = x^2$."
   ]
  },
  {
   "cell_type": "markdown",
   "id": "e369090e",
   "metadata": {},
   "source": [
    "For å definere $f(x) = x^2$ som en Python funksjon, kan vi skrive:"
   ]
  },
  {
   "cell_type": "code",
   "execution_count": 32,
   "id": "f4371959",
   "metadata": {},
   "outputs": [],
   "source": [
    "def f(x):\n",
    "    \"\"\"Regner ut x^2 for en spesifikk verdi av x.\n",
    "    \n",
    "    Args:\n",
    "        x (float eller int):\n",
    "            Verdien for x som vi skal regne ut x^2 i.\n",
    "    Returns:\n",
    "        Verdien til x^2 i x.\n",
    "    \"\"\"\n",
    "    return x ** 2"
   ]
  },
  {
   "cell_type": "markdown",
   "id": "d8a497e6",
   "metadata": {},
   "source": [
    "Man må ikke ha med tekststrengen der som forklarer hva funksjonen gjør for at Python skal kjøre koden.\n",
    "Python ignorerer tekststrengen helt. Tekststrengen kalles en **docstring** og er ment for å *dokumentere* hvordan funksjonen funker og hva den gjør. Hensikten med den er for den som skal lese eller bruke koden skal forstå nettopp dette. I dette tilfellet sier den at vi må vi gi en verdi av `x` som argument. Så returnerer funksjonen hva verdien av `x ** 2` er. \n",
    "Under *Args* forklarer man hvilke argumenter som skal sendes inn og hva de betyr. Under *Returns* forklarer man hva som returneres av funksjonen til brukeren. \n",
    "\n",
    "La oss se på hvordan man kan bruke:"
   ]
  },
  {
   "cell_type": "code",
   "execution_count": 33,
   "id": "93866e44",
   "metadata": {},
   "outputs": [
    {
     "name": "stdout",
     "output_type": "stream",
     "text": [
      "y = 4\n"
     ]
    }
   ],
   "source": [
    "x = 2\n",
    "y = f(x) # funksjonen `f` tar inn `x` og returner en verdi som lagres i variabelen `y`.\n",
    "print(f\"y = {y}\")"
   ]
  },
  {
   "cell_type": "markdown",
   "id": "7c1ee10b",
   "metadata": {},
   "source": [
    "Som sagt trenger vi ikke lage en docstring. I praksis, hadde følgende funksjonsdefinisjon vært nok:"
   ]
  },
  {
   "cell_type": "code",
   "execution_count": 34,
   "id": "31972f83",
   "metadata": {},
   "outputs": [],
   "source": [
    "def f(x):\n",
    "    return x ** 2"
   ]
  },
  {
   "cell_type": "markdown",
   "id": "36d36d70",
   "metadata": {},
   "source": [
    "La oss sjekke at den gjør akkurat det samme:"
   ]
  },
  {
   "cell_type": "code",
   "execution_count": 35,
   "id": "f5df06cc",
   "metadata": {},
   "outputs": [
    {
     "name": "stdout",
     "output_type": "stream",
     "text": [
      "y = 4\n"
     ]
    }
   ],
   "source": [
    "x = 2\n",
    "y = f(x) # funksjonen `f` tar inn `x` og returner en verdi som lagres i variabelen `y`.\n",
    "print(f\"y = {y}\")"
   ]
  },
  {
   "cell_type": "markdown",
   "id": "7cdb3d33",
   "metadata": {},
   "source": [
    "Jepp, det gjør den :-)"
   ]
  },
  {
   "cell_type": "markdown",
   "id": "2cc49c0d",
   "metadata": {},
   "source": [
    "### Eksempel 2: En funksjon for å regne ut summen av de $n$ første heltallene"
   ]
  },
  {
   "cell_type": "markdown",
   "id": "2d7ba070",
   "metadata": {},
   "source": [
    "Som sagt kunne vi i stedet lagd en funksjon som regnet ut summen av de $n$ første heltallene, så kan vi sende inn forskjellige verdier avhengig av hva vi er interessert i å regne ut. Den verdien som skal variere er $n$, så vi kan definere en funksjon som dette:"
   ]
  },
  {
   "cell_type": "code",
   "execution_count": 36,
   "id": "ad718b59",
   "metadata": {},
   "outputs": [],
   "source": [
    "def sum_av_n_heltall(n):\n",
    "    \"\"\"Regner ut summen av de `n` første heltallene.\n",
    "    \n",
    "    Args:\n",
    "        n (int):\n",
    "            Heltallet vi skal summe opp til, dvs\n",
    "            s = 1 + 2 + ... + n\n",
    "            \n",
    "    Returns:\n",
    "        s (float):\n",
    "            Summen av de `n` første heltallene.\n",
    "    \"\"\"\n",
    "    s = 0\n",
    "    for i in range(1, n + 1):\n",
    "        s += i\n",
    "    return s"
   ]
  },
  {
   "cell_type": "markdown",
   "id": "c3646eed",
   "metadata": {},
   "source": [
    "La oss se om den gir oss det samme som i stad: "
   ]
  },
  {
   "cell_type": "code",
   "execution_count": 37,
   "id": "d0f315c0",
   "metadata": {},
   "outputs": [
    {
     "name": "stdout",
     "output_type": "stream",
     "text": [
      "s = 5050\n"
     ]
    }
   ],
   "source": [
    "s = sum_av_n_heltall(100)\n",
    "print(f\"s = {s}\")"
   ]
  },
  {
   "cell_type": "markdown",
   "id": "a380dd51",
   "metadata": {},
   "source": [
    "Men nå kan vi kalle på den for alle mulige verdier av `n`. Hva er summen av de 10 første heltallene? Hva med de 23 først heltallene? Hva med de 1000 første? Say no more:"
   ]
  },
  {
   "cell_type": "code",
   "execution_count": 38,
   "id": "47b25f12",
   "metadata": {},
   "outputs": [
    {
     "name": "stdout",
     "output_type": "stream",
     "text": [
      "Sum av 10 første heltall = 55\n",
      "Sum av 23 første heltall = 276\n",
      "Sum av 1000 første heltall = 500500\n"
     ]
    }
   ],
   "source": [
    "print(\"Sum av 10 første heltall =\", sum_av_n_heltall(10))\n",
    "print(\"Sum av 23 første heltall =\", sum_av_n_heltall(23))\n",
    "print(\"Sum av 1000 første heltall =\", sum_av_n_heltall(1000))"
   ]
  },
  {
   "cell_type": "markdown",
   "id": "19742ec1",
   "metadata": {},
   "source": [
    "### Eksempel 3: En funksjon som regner ut $n!$ "
   ]
  },
  {
   "cell_type": "markdown",
   "id": "30371f7a",
   "metadata": {},
   "source": [
    "La oss gjøre det samme med utregningen av $n!$:"
   ]
  },
  {
   "cell_type": "code",
   "execution_count": 39,
   "id": "93becefd",
   "metadata": {},
   "outputs": [],
   "source": [
    "def n_fakultet(n):\n",
    "    \"\"\"Regner ut n! for en gitt n.\n",
    "    \n",
    "    Args:\n",
    "        n (int):\n",
    "            Heltallen man ønsker å regne ut n! av.\n",
    "    \n",
    "    Returns:\n",
    "        p (int):\n",
    "            p representerer n!\n",
    "    \"\"\"\n",
    "    p = 1\n",
    "    for i in range(1, n + 1):\n",
    "        p *= i\n",
    "    return p"
   ]
  },
  {
   "cell_type": "markdown",
   "id": "4df5b454",
   "metadata": {},
   "source": [
    "La oss sjekke at den gir samme resultat som før:"
   ]
  },
  {
   "cell_type": "code",
   "execution_count": 40,
   "id": "6dff57b4",
   "metadata": {},
   "outputs": [
    {
     "name": "stdout",
     "output_type": "stream",
     "text": [
      "5! = 120\n"
     ]
    }
   ],
   "source": [
    "fem_fakultet = n_fakultet(5)\n",
    "print(f\"5! = {fem_fakultet}\")"
   ]
  },
  {
   "cell_type": "markdown",
   "id": "af988de5",
   "metadata": {},
   "source": [
    "Igjen kan vi nå regne det ut for vilkårlige valg av $n$. For eksempel:"
   ]
  },
  {
   "cell_type": "code",
   "execution_count": 41,
   "id": "91b13514",
   "metadata": {},
   "outputs": [
    {
     "name": "stdout",
     "output_type": "stream",
     "text": [
      "10! = 3628800\n",
      "25! = 15511210043330985984000000\n",
      "3! =  6\n"
     ]
    }
   ],
   "source": [
    "print(\"10! =\", n_fakultet(10))\n",
    "print(\"25! =\", n_fakultet(25))\n",
    "print(\"3! = \", n_fakultet(3))"
   ]
  },
  {
   "cell_type": "markdown",
   "id": "22fa4fc6",
   "metadata": {},
   "source": [
    "### Eksempel 4: Numerisk derivasjon"
   ]
  },
  {
   "cell_type": "markdown",
   "id": "971af4fd",
   "metadata": {},
   "source": [
    "Tidligere i skoleåret så vi på hvordan man kunne lage en kode for å tilnærme verdien til deriverte en funksjon $f(x)$ i et punkt $x$. Formelen for det var\n",
    "\n",
    "$$\n",
    "f'(x) \\approx \\frac{f(x+h) - f(x)}{h},\n",
    "$$\n",
    "der $h$ var en \"liten\" avstand fra $x$. Vi kunne oppnå dette med en funksjon som dette:"
   ]
  },
  {
   "cell_type": "code",
   "execution_count": 42,
   "id": "96c5601e",
   "metadata": {},
   "outputs": [],
   "source": [
    "def deriver(x, f, h=1e-4):\n",
    "    \"\"\"Regner ut en tilnærming til den deriverte av f(x) i x.\n",
    "    \n",
    "    Args:\n",
    "        x (float eller int):\n",
    "            Punktet vi skal regne ut den deriverte i.\n",
    "        f (Python funksjon)\n",
    "            En Python funksjon på formen f(x) som skal representere\n",
    "            funksjonen vi ønsker å derivere.\n",
    "        h (float):\n",
    "            Steglengden bruk i derivasjonsformelen.\n",
    "            Default verdi er satt til `h = 1e-4 = 0.0001`.\n",
    "    \"\"\"\n",
    "    return (f(x + h) - f(x)) / h"
   ]
  },
  {
   "cell_type": "markdown",
   "id": "9c8ef08b",
   "metadata": {},
   "source": [
    "Her har vi satt inn en *default* verdi for `h` så vi ikke nødvendigvis må sende den inn. Hvis vi ikke sender inn en verdi, velger Python `h = 1e-4` automatisk. Vi kan likevel sende inn en verdi for `h` som overskriver default verdien. La oss derivere $g(x) = x^3$ i punktet $x = 1$. Da trenger vi først å definere funksjonen:"
   ]
  },
  {
   "cell_type": "code",
   "execution_count": 43,
   "id": "f3d02485",
   "metadata": {},
   "outputs": [],
   "source": [
    "def g(x):\n",
    "    return x ** 3"
   ]
  },
  {
   "cell_type": "code",
   "execution_count": 44,
   "id": "d3458279",
   "metadata": {},
   "outputs": [
    {
     "name": "stdout",
     "output_type": "stream",
     "text": [
      "3.0003000099987354\n",
      "3.000000248221113\n"
     ]
    }
   ],
   "source": [
    "print(deriver(x=1, f=g))\n",
    "print(deriver(x=1, f=g, h=1e-10)) # Bruker en annen verdi for steglengden `h`"
   ]
  },
  {
   "cell_type": "markdown",
   "id": "90ab35dc",
   "metadata": {},
   "source": [
    "Som stemmer ganske bra siden $g'(x) = 3x^2$, så $g'(1) = 3$."
   ]
  },
  {
   "cell_type": "markdown",
   "id": "9f034267",
   "metadata": {},
   "source": [
    "### Eksempel 5: Halveringsmetoden for å finne nullpunkter"
   ]
  },
  {
   "cell_type": "markdown",
   "id": "3459c5d1",
   "metadata": {},
   "source": [
    "Tidligere i år har vi også sett på en numeriske algoritme for å finne nullpunkter kalt **halveringsmetoden**. \n",
    "Algoritmen/metoden funker som følger:\n",
    "\n",
    "Tenk deg at vi har en funksjon $f(x)$ og vi ønsker å finne et estimat på et nullpunkt $x$ slik at $f(x) \\approx 0$.\n",
    "Halveringsmetoden angriper problemet med å velge et interval $[a, b]$ der man vet at funksjonen endrer fortegn på intervallet. Effektivt krever man at $f(a) \\cdot f(b) < 0$, for da har $f$ ulike fortegn i endepunktene på intervallet. Dette er grunnideen vi skal gjenbruke igjen og igjen i metoden.\n",
    "\n",
    "Neste steg er å dele intervallet vårt i to, på midten, ved å finne midtpunktet $m = (a + b) / 2$.\n",
    "Ved mindre vi har enorm flaks og $m$ er nullpunktet vi leter etter, er planen vår nå er å velge ett av disse intervallene som et nytt intervall der vi vet nullpunktet ligger på innsiden, slik at vi kommer nærmere nullpunktet.\n",
    "Vi velger dette intervallet på samme måte som når vi bestemte oss for det opprinnelig intervallet. Vi har to kandidater for intervallet:\n",
    "\n",
    "1. Intervallet $[a, m]$\n",
    "2. Intervallet $[m ,b]$\n",
    "\n",
    "Vi velger det første intervallet dersom $f(x)$ har motsatt fortegn i endepunktene, med andre ord $f(a) \\cdot f(m) < 0$. Hvis ikke velger vi det andre intervallet siden da er $f(m) \\cdot f(b) < 0$.\n",
    "\n",
    "Denne prosedyren skal vi bare gjenta igjen og igjen frem til vi er nærme nok et nullpunkt. På hver runde \n",
    "bruker midtpunktet $m$ som vårt estimat på nullpunktet til funksjonen. Det er naturlig å holde på helt til $f(m) \\approx 0$, ved å bare overskrive verdien til $m$ på hver iterasjon i en Python kode, og stoppe koden når $f(m)$ er \"nærme\" 0. Det er naturlig for oss å formulere det med en `while` loop som holder på så lenge $|f(m)| \\geq \\epsilon$, der $\\epsilon$ er et \"lite\" tall nærme 0 som vi gjerne kaller for en **toleranse** og $|f(m)|$ betyr **absoluttverdien** til funksjonsverdien, aka vi bare fjerner fortegnet.\n"
   ]
  },
  {
   "cell_type": "code",
   "execution_count": 45,
   "id": "f40bd13c",
   "metadata": {},
   "outputs": [],
   "source": [
    "def halveringsmetoden(a, b, f, toleranse=1e-8):\n",
    "    \"\"\"Bruker Halveringsmetoden til å regne ut\n",
    "    et estimat på et nullpunkt til en funksjon `f`\n",
    "    gitt et endepunktene `a` og `b` for et intervall\n",
    "    [a, b]\n",
    "    \n",
    "    Args:\n",
    "        a (float eller int):\n",
    "            Venstre endepunkt for startintervallet [a, b]\n",
    "        b (float eller int):\n",
    "            Høyre endrepunkt for startintervallet [a, b]\n",
    "        f (Python funksjon):\n",
    "            Funksjonen vi ønsker å finne et nullpunkt for.\n",
    "            Må være en funksjon på formen f(x)\n",
    "        toleranse (float):\n",
    "            Verdien vi setter for når vi er \"nærme nok\" 0.\n",
    "            Default: toleranse = 1e-8 (samme som 10 ** (-8)).\n",
    "    \n",
    "    \"\"\"\n",
    "    m = (a + b) / 2\n",
    "    while abs(f(m)) >= toleranse:\n",
    "        \n",
    "        # Sjekk om intervallet [a, m] er vårt nye intervall\n",
    "        if f(m) * f(a) < 0:\n",
    "            a = a # Vi bruker samme venstre endepunkt som på forrige iterasjon\n",
    "            b = m # Sett det høyre endepunktet til midtpunktet\n",
    "        \n",
    "        # Hvis ikke velger vi intervallet [m, b]\n",
    "        else:\n",
    "            a = m # Venstre endepunkt settes lik midtpunktet \n",
    "            b = b # Vi bruker samme høyre endepunkt som på forrige iterasjon\n",
    "        \n",
    "        # Regn ut neste midtpunkt:\n",
    "        m = (a + b) / 2\n",
    "    \n",
    "    # Når while loopen er ferdig, returnerer vi verdien for `m` som estimatet på nullpunktet \n",
    "    return m "
   ]
  },
  {
   "cell_type": "markdown",
   "id": "d0f1f8bf",
   "metadata": {},
   "source": [
    "La se om vi kan finne et nullpunkt med funksjonen. Tenk deg at vi vil finne et nullpunkt for $f(x) = x^2 - 1$. \n",
    "Denne funksjonen har to nullpunkter gitt ved $x = \\pm 1$. Vi kan f.eks da velge oss intervallet $[0, 4]$ for å finne nullpunktet $x = 1$. Eller vi kan velge intervallet $[-15, -0.5]$ for å finne nullpunktet i $x = -1$. Funksjonen skal klare å finne den uansett. "
   ]
  },
  {
   "cell_type": "code",
   "execution_count": 46,
   "id": "154db0a8",
   "metadata": {},
   "outputs": [],
   "source": [
    "def f(x):\n",
    "    return x ** 2 - 1"
   ]
  },
  {
   "cell_type": "code",
   "execution_count": 47,
   "id": "c6a2cf43",
   "metadata": {},
   "outputs": [
    {
     "name": "stdout",
     "output_type": "stream",
     "text": [
      "nullpunkt = 1.0\n"
     ]
    }
   ],
   "source": [
    "# Finne x = 1 som nullpunkt ved å bruke intervallet [0, 4]:\n",
    "\n",
    "a = 0\n",
    "b = 4\n",
    "nullpunkt = halveringsmetoden(a, b, f)\n",
    "print(f\"nullpunkt = {nullpunkt}\")"
   ]
  },
  {
   "cell_type": "code",
   "execution_count": 48,
   "id": "b1f2b474",
   "metadata": {},
   "outputs": [
    {
     "name": "stdout",
     "output_type": "stream",
     "text": [
      "nullpunkt = -0.9999999962747097\n"
     ]
    }
   ],
   "source": [
    "# Finne nullpunktet x = -1 ved å bruke intervallet [-15, -0.5]\n",
    "\n",
    "a = -15\n",
    "b = 0\n",
    "nullpunkt = halveringsmetoden(a, b, f)\n",
    "print(f\"nullpunkt = {nullpunkt}\")"
   ]
  }
 ],
 "metadata": {
  "kernelspec": {
   "display_name": "Python 3 (ipykernel)",
   "language": "python",
   "name": "python3"
  },
  "language_info": {
   "codemirror_mode": {
    "name": "ipython",
    "version": 3
   },
   "file_extension": ".py",
   "mimetype": "text/x-python",
   "name": "python",
   "nbconvert_exporter": "python",
   "pygments_lexer": "ipython3",
   "version": "3.9.12"
  }
 },
 "nbformat": 4,
 "nbformat_minor": 5
}
